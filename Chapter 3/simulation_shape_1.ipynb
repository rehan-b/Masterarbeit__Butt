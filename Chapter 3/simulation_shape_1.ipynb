{
 "cells": [
  {
   "cell_type": "code",
   "execution_count": 1,
   "metadata": {},
   "outputs": [],
   "source": [
    "from utils import simulation, calculate_true_survival_probability\n",
    "import numpy as np\n",
    "import pandas as pd\n",
    "import matplotlib.pyplot as plt\n",
    "import seaborn as sns\n",
    "from concurrent.futures import ProcessPoolExecutor\n",
    "from tqdm import tqdm\n",
    "import os\n",
    "import hashlib\n",
    "import psutil\n",
    "import time\n",
    "\n",
    "### Simulations Parameter ##############\n",
    "seed = 42\n",
    "n_sim = 1000\n",
    "B_1  = 0\n",
    "\n",
    "jk_ab_calc = True\n",
    "boot_var_calc = False\n",
    "ijk_std_calc = True\n",
    "train_models = True"
   ]
  },
  {
   "cell_type": "markdown",
   "metadata": {},
   "source": [
    "### Simulation start n = 500"
   ]
  },
  {
   "cell_type": "code",
   "execution_count": null,
   "metadata": {},
   "outputs": [],
   "source": [
    "n = int(500/0.7)\n",
    "tau = 37\n",
    "\n",
    "params_data = [   \n",
    "    \n",
    "# Cens_prop = 0.1 //  Event Proportion = 0.09\n",
    "{ 'shape_weibull': 1, \n",
    "      'scale_weibull_base': 24_300, \n",
    "      'rate_censoring': 0.003, \n",
    "      'b_bloodp': -0.405, 'b_diab': -0.4, 'b_age': -0.05,\n",
    "      'b_bmi': -0.01, 'b_kreat': -0.2, \n",
    "      'n': n, 'seed': seed, 'tau': tau},\n",
    "# Cens_prop = 0.1 //  Event Proportion = 0.18\n",
    "{ 'shape_weibull': 1, \n",
    "      'scale_weibull_base': 10803.76159628643   , \n",
    "      'rate_censoring':0.003170578469623819    ,\n",
    "      'b_bloodp': -0.405, 'b_diab': -0.4, 'b_age': -0.05, \n",
    "      'b_bmi': -0.01, 'b_kreat': -0.2, \n",
    "      'n': n, 'seed': seed, 'tau': tau},\n",
    "# Cens_prop = 0.1 //  Event Proportion = 0.27\n",
    "{ 'shape_weibull': 1, \n",
    "      'scale_weibull_base': 6539.41883092019  , \n",
    "      'rate_censoring':0.0033904243453215187,\n",
    "      'b_bloodp': -0.405, 'b_diab': -0.4, 'b_age': -0.05, \n",
    "      'b_bmi': -0.01, 'b_kreat': -0.2, \n",
    "      'n': n, 'seed': seed, 'tau': tau},\n",
    "# Cens_prop = 0.1 //  Event Proportion = 0.36\n",
    "{ 'shape_weibull': 1, \n",
    "      'scale_weibull_base':  4453.164150258696    , \n",
    "      'rate_censoring': 0.003624326851330594   ,\n",
    "      'b_bloodp': -0.405, 'b_diab': -0.4, 'b_age': -0.05, \n",
    "      'b_bmi': -0.01, 'b_kreat': -0.2, \n",
    "      'n': n, 'seed': seed, 'tau': tau},\n",
    "\n",
    "# Cens_prop = 0.3 //  Event Proportion = 0.07\n",
    "{ 'shape_weibull': 1, \n",
    "      'scale_weibull_base':   28000   , \n",
    "      'rate_censoring': 0.01,\n",
    "      'b_bloodp': -0.405, 'b_diab': -0.4, 'b_age': -0.05, \n",
    "      'b_bmi': -0.01, 'b_kreat': -0.2, \n",
    "      'n': n, 'seed': seed, 'tau': tau},\n",
    "# Cens_prop = 0.3 //  Event Proportion = 0.14\n",
    "{ 'shape_weibull': 1, \n",
    "      'scale_weibull_base':  12463.811039838654   , \n",
    "      'rate_censoring': 0.010725364504143705      ,\n",
    "      'b_bloodp': -0.405, 'b_diab': -0.4, 'b_age': -0.05, \n",
    "      'b_bmi': -0.01, 'b_kreat': -0.2, \n",
    "      'n': n, 'seed': seed, 'tau': tau},\n",
    "# Cens_prop = 0.3 //  Event Proportion = 0.21\n",
    "{ 'shape_weibull': 1, \n",
    "      'scale_weibull_base':7500     , \n",
    "      'rate_censoring':  0.011600103696876245    ,\n",
    "      'b_bloodp': -0.405, 'b_diab': -0.4, 'b_age': -0.05, \n",
    "      'b_bmi': -0.01, 'b_kreat': -0.2, \n",
    "      'n': n, 'seed': seed, 'tau': tau},\n",
    "# Cens_prop = 0.3 //  Event Proportion = 0.28\n",
    "{ 'shape_weibull': 1, \n",
    "      'scale_weibull_base':  5122.0241237382925    , \n",
    "      'rate_censoring':  0.012470507897824007      ,\n",
    "      'b_bloodp': -0.405, 'b_diab': -0.4, 'b_age': -0.05, \n",
    "      'b_bmi': -0.01, 'b_kreat': -0.2, \n",
    "      'n': n, 'seed': seed, 'tau': tau},\n",
    "\n",
    "# Cens_prop = 0.5 //  Event Proportion = 0.05\n",
    "{ 'shape_weibull': 1, \n",
    "      'scale_weibull_base': 34000     , \n",
    "      'rate_censoring':  0.019578490533008537    ,\n",
    "      'b_bloodp': -0.405, 'b_diab': -0.4, 'b_age': -0.05, \n",
    "      'b_bmi': -0.01, 'b_kreat': -0.2, \n",
    "      'n': n, 'seed': seed, 'tau': tau},\n",
    "# Cens_prop = 0.5 //  Event Proportion = 0.10\n",
    "{ 'shape_weibull': 1, \n",
    "      'scale_weibull_base': 15800      , \n",
    "      'rate_censoring':  0.02052170406791234   ,\n",
    "      'b_bloodp': -0.405, 'b_diab': -0.4, 'b_age': -0.05, \n",
    "      'b_bmi': -0.01, 'b_kreat': -0.2, \n",
    "      'n': n, 'seed': seed, 'tau': tau},\n",
    "# Cens_prop = 0.5 //  Event Proportion = 0.15\n",
    "{ 'shape_weibull': 1, \n",
    "      'scale_weibull_base': 9600      , \n",
    "      'rate_censoring':  0.0218      ,\n",
    "      'b_bloodp': -0.405, 'b_diab': -0.4, 'b_age': -0.05, \n",
    "      'b_bmi': -0.01, 'b_kreat': -0.2, \n",
    "      'n': n, 'seed': seed, 'tau': tau},\n",
    "# Cens_prop = 0.5 //  Event Proportion = 0.20\n",
    "{ 'shape_weibull': 1, \n",
    "      'scale_weibull_base': 6600       , \n",
    "      'rate_censoring':  0.022901136686777616      ,\n",
    "      'b_bloodp': -0.405, 'b_diab': -0.4, 'b_age': -0.05, \n",
    "      'b_bmi': -0.01, 'b_kreat': -0.2, \n",
    "      'n': n, 'seed': seed, 'tau': tau},\n",
    "\n",
    "# Cens_prop = 0.7 //  Event Proportion = 0.03\n",
    "{ 'shape_weibull': 1, \n",
    "      'scale_weibull_base': 45_000       , \n",
    "      'rate_censoring':  0.034   ,\n",
    "      'b_bloodp': -0.405, 'b_diab': -0.4, 'b_age': -0.05, \n",
    "      'b_bmi': -0.01, 'b_kreat': -0.2, \n",
    "      'n': n, 'seed': seed, 'tau': tau},\n",
    "# Cens_prop = 0.7 //  Event Proportion = 0.06\n",
    "{ 'shape_weibull': 1, \n",
    "      'scale_weibull_base': 21700       , \n",
    "      'rate_censoring':  0.0352   ,\n",
    "      'b_bloodp': -0.405, 'b_diab': -0.4, 'b_age': -0.05, \n",
    "      'b_bmi': -0.01, 'b_kreat': -0.2, \n",
    "      'n': n, 'seed': seed, 'tau': tau},\n",
    "# Cens_prop = 0.7 //  Event Proportion = 0.09\n",
    "{ 'shape_weibull': 1, \n",
    "      'scale_weibull_base': 13_000       , \n",
    "      'rate_censoring':  0.0375   ,\n",
    "      'b_bloodp': -0.405, 'b_diab': -0.4, 'b_age': -0.05, \n",
    "      'b_bmi': -0.01, 'b_kreat': -0.2, \n",
    "      'n': n, 'seed': seed, 'tau': tau},\n",
    "# Cens_prop = 0.7 //  Event Proportion = 0.12\n",
    "{ 'shape_weibull': 1, \n",
    "      'scale_weibull_base': 9115.851814783131        , \n",
    "      'rate_censoring':  0.04021055606963396   ,\n",
    "      'b_bloodp': -0.405, 'b_diab': -0.4, 'b_age': -0.05, \n",
    "      'b_bmi': -0.01, 'b_kreat': -0.2, \n",
    "      'n': n, 'seed': seed, 'tau': tau}\n",
    "                ]\n",
    "\n",
    "for B_RF in [500,1000,2000,4000]: \n",
    "    for  params_data_creation in params_data:\n",
    "        ### Simulation\n",
    "        X_erwartung = pd.DataFrame({'bmi': [25], 'blood_pressure': [0], 'kreatinkinase': [np.exp(5+1/2)], 'diabetes': [0], 'age': [50]})\n",
    "        params_rf = {   'n_estimators':B_RF,                        \n",
    "                        'max_depth':4,\n",
    "                        'min_samples_split':5,\n",
    "                        'max_features': 'log2',\n",
    "                        'random_state':  seed,\n",
    "                        'weighted_bootstrapping': True, }\n",
    "\n",
    "        ######## Start Simulation   ########\n",
    "        with ProcessPoolExecutor() as executor:\n",
    "            \n",
    "            ### Array to store the results\n",
    "            portion_events_after_cut_train = np.zeros(n_sim)\n",
    "            portion_censored_after_cut_train = np.zeros(n_sim)\n",
    "            portion_no_events_after_cut_train = np.zeros(n_sim)\n",
    "            portion_events_after_cut_test = np.zeros(n_sim)\n",
    "            portion_censored_after_cut_test = np.zeros(n_sim)\n",
    "            portion_no_events_after_cut_test = np.zeros(n_sim)\n",
    "            wb_mse_ipcw = np.zeros(n_sim)\n",
    "            wb_cindex_ipcw = np.zeros(n_sim)\n",
    "            wb_y_pred_X_point = np.zeros(n_sim)\n",
    "            rf_mse_ipcw = np.zeros(n_sim)\n",
    "            rf_y_pred_X_point = np.zeros(n_sim)\n",
    "            ijk_var_pred_X_point = np.zeros(n_sim)\n",
    "            ijk_var_biased_X_point = np.zeros(n_sim)\n",
    "            bootstrap_var_pred_X_point = np.zeros(n_sim)\n",
    "            jk_ab_var_pred_X_point = np.zeros(n_sim)\n",
    "            \n",
    "\n",
    "            futures = [\n",
    "                executor.submit(\n",
    "                    simulation,\n",
    "                    seed=seed+i,\n",
    "                    tau=tau, \n",
    "                    data_generation_weibull_parameters=params_data_creation,\n",
    "                    params_rf=params_rf, \n",
    "                    X_pred_point=X_erwartung,\n",
    "                    B_first_level = B_1,\n",
    "                    boot_std_calc = boot_var_calc,\n",
    "                    ijk_std_calc = ijk_std_calc,\n",
    "                    train_models = train_models,\n",
    "                    jk_ab_calc = jk_ab_calc\n",
    "                )\n",
    "                for i in range(n_sim)\n",
    "            ]\n",
    "\n",
    "            for i, future in enumerate(tqdm(futures, desc=\"Simulations\", unit=\"simulation\")):\n",
    "                _portion_events_after_cut_train, _portion_censored_after_cut_train, _portion_no_events_after_cut_train, \\\n",
    "                _portion_events_after_cut_test, _portion_censored_after_cut_test, _portion_no_events_after_cut_test, \\\n",
    "                _wb_mse_ipcw, _wb_cindex_ipcw, _wb_y_pred_X_point, \\\n",
    "                _rf_mse_ipcw, _rf_y_pred_X_point, _ijk_biased_var_pred_X_point,_ijk_correction, _bootstrap_var_pred_X_point, _jk_ab_var_pred_X_point  = future.result()\n",
    "\n",
    "   \n",
    "\n",
    "                #Event-Stats Results\n",
    "                portion_events_after_cut_train[i] = _portion_events_after_cut_train\n",
    "                portion_censored_after_cut_train[i] = _portion_censored_after_cut_train\n",
    "                portion_no_events_after_cut_train[i] = _portion_no_events_after_cut_train\n",
    "                portion_events_after_cut_test[i] = _portion_events_after_cut_test\n",
    "                portion_censored_after_cut_test[i] = _portion_censored_after_cut_test\n",
    "                portion_no_events_after_cut_test[i] = _portion_no_events_after_cut_test\n",
    "                \n",
    "                #Evaluation Results\n",
    "                wb_mse_ipcw[i] = _wb_mse_ipcw\n",
    "                wb_cindex_ipcw[i] = _wb_cindex_ipcw\n",
    "                rf_mse_ipcw[i] = _rf_mse_ipcw\n",
    "\n",
    "                #Prediction Results\n",
    "                wb_y_pred_X_point[i] = _wb_y_pred_X_point[0]\n",
    "                rf_y_pred_X_point[i] = _rf_y_pred_X_point[0]\n",
    "\n",
    "                # Standard Deviation Estimates\n",
    "                ijk_var_pred_X_point[i]  = [_ijk_biased_var_pred_X_point - _ijk_correction][0][0]\n",
    "                ijk_var_biased_X_point[i] = _ijk_biased_var_pred_X_point\n",
    "                jk_ab_var_pred_X_point[i] = _jk_ab_var_pred_X_point\n",
    "                bootstrap_var_pred_X_point[i] = _bootstrap_var_pred_X_point\n",
    "\n",
    "        ########## Save Results ############\n",
    "        results = pd.DataFrame({'wb_mse_ipcw': wb_mse_ipcw,\n",
    "                                'wb_cindex_ipcw': wb_cindex_ipcw,\n",
    "                                'rf_mse_ipcw': rf_mse_ipcw,\n",
    "                                'wb_y_pred_X_point': wb_y_pred_X_point,\n",
    "                                'rf_y_pred_X_point': rf_y_pred_X_point,\n",
    "                                'ijk_var_pred_X_point': ijk_var_pred_X_point,\n",
    "                                'ijk_var_biased_X_point': ijk_var_biased_X_point,\n",
    "                                'jk_ab_var_pred_X_point': jk_ab_var_pred_X_point,\n",
    "                                'bootstrap_var_pred_X_point': bootstrap_var_pred_X_point})\n",
    "        path = os.path.abspath('')\n",
    "        experiment_name = f'n_train{int(n*0.7)}_Events{round(n*0.7*np.mean(portion_events_after_cut_train),0)}({round(np.mean(portion_events_after_cut_train)*100,2)}%)_Cens{round(n*0.7*np.mean(portion_censored_after_cut_train),0)}({round(np.mean(portion_censored_after_cut_train)*100,2)}%)_(B_RF){B_RF}__(B_1){B_1}'\n",
    "        if not os.path.exists(path + '/results/'+experiment_name):\n",
    "            os.makedirs(path + '/results/'+experiment_name)\n",
    "\n",
    "        # Abspeichern der Ergebnise in einer .csv Datei und txt Datei in results ordner \n",
    "        results.to_csv(path + '/results/'+experiment_name+'/'+experiment_name+'.csv', index=False)\n",
    "        if not os.path.exists(path + '/results_txt'):\n",
    "            os.makedirs(path + '/results_txt')\n",
    "        with open(path + '/results/'+experiment_name+'/results.txt', 'w') as f:\n",
    "\n",
    "            f.write(f'n_train= {int(n*0.7)}// Events: {round(n*0.7*np.mean(portion_events_after_cut_train),0)} ({round(np.mean(portion_events_after_cut_train)*100,2)} %) // Censored: {round(n*0.7*np.mean(portion_censored_after_cut_train),0)} ({round(np.mean(portion_censored_after_cut_train)*100,2)} %) // B_RF: {B_RF} // (B_1): {B_1} \\n')\n",
    "\n",
    "            f.write('\\n### Standard Deviation: ###\\n')\n",
    "            a = np.std(wb_y_pred_X_point,ddof=1)\n",
    "            f.write(f'WB EMP-STD:                 {a:.4f}\\n')\n",
    "            b = np.std(rf_y_pred_X_point,ddof=1)\n",
    "            f.write(f'RF EMP-STD:                 {b:.4f}\\n\\n')\n",
    "\n",
    "            non_neg_var_ijk_est = ijk_var_pred_X_point.copy()\n",
    "            non_neg_var_ijk_est[non_neg_var_ijk_est<0] = 0\n",
    "            # erst die wurzel ziehen und dann den mittelwert bilden\n",
    "            a = np.mean(np.sqrt(  non_neg_var_ijk_est    ))\n",
    "            f.write(f'IJK STD (for RF) Mean-est               : {a:.4f}  \\n rel. Abweichung zu emp. std {(a-b)/b*100:.4f} % \\n std. des schätzers {np.std(np.sqrt(  non_neg_var_ijk_est    )):.4f}\\n\\n')\n",
    "            \n",
    "            non_neg_var_ijk_est = ijk_var_biased_X_point.copy()\n",
    "            non_neg_var_ijk_est[non_neg_var_ijk_est<0] = 0\n",
    "            # erst die wurzel ziehen und dann den mittelwert bilden\n",
    "            a = np.mean(np.sqrt(  non_neg_var_ijk_est    ))\n",
    "            f.write(f'IJK STD - biased (for RF) Mean-est               : {a:.4f}  \\n rel. Abweichung zu emp. std {(a-b)/b*100:.4f} % \\n std. des schätzers {np.std(np.sqrt(  non_neg_var_ijk_est    )):.4f}\\n\\n')\n",
    "            \n",
    "            non_neg_var_ijk_est = jk_ab_var_pred_X_point.copy()\n",
    "            non_neg_var_ijk_est[non_neg_var_ijk_est<0] = 0\n",
    "            # erst die wurzel ziehen und dann den mittelwert bilden\n",
    "            a = np.mean(np.sqrt(  non_neg_var_ijk_est    ))\n",
    "            f.write(f'JK-AB(un-weighted) STD (for RF) Mean-est: {a:.4f} \\n rel. Abweichung zu emp. std {(a-b)/b*100:.4f} %  \\n std. des schätzers {np.std(np.sqrt(  non_neg_var_ijk_est    )):.4f} \\n\\n')\n",
    "\n",
    "            a = np.mean(np.sqrt(  bootstrap_var_pred_X_point    ))\n",
    "            f.write(f'Boot STD (for RF) Mean-est              : {a:.4f} \\n rel. Abweichung zu emp. std {(a-b)/b*100:.4f} %  \\n std. des schätzers {np.std(np.sqrt(  a    )):.4f} \\n\\n')\n",
    "\n",
    "\n",
    "\n",
    "\n",
    "            f.write('\\n\\n### mean Data Stats over all simulations: ###\\n')\n",
    "            f.write('Number of simulations: '+str(n_sim)+'\\n')\n",
    "            f.write('cut-off time tau: '+str(tau)+'\\n\\n')\n",
    "            f.write(f'Train ({int(n*0.7)}):\\n')\n",
    "            f.write(f'Events:     {round(np.mean(portion_events_after_cut_train)*100,2)}  %,  n={round(n*0.7*np.mean(portion_events_after_cut_train),0)}\\n')\n",
    "            f.write(f'No Events:  {round(np.mean(portion_no_events_after_cut_train)*100,2)} %,  n={round(n*0.7*np.mean(portion_no_events_after_cut_train),0)}\\n')\n",
    "            f.write(f'Censored:   {round(np.mean(portion_censored_after_cut_train)*100,2)} %,  n={round(n*0.7*np.mean(portion_censored_after_cut_train),0)}\\n')\n",
    "            f.write(f'Test  ({int(n*0.3)}):\\n')\n",
    "            f.write(f'Events:     {round(np.mean(portion_events_after_cut_test)*100,2)}  %,   n={round(n*0.3*np.mean(portion_events_after_cut_test),0)}\\n')\n",
    "            f.write(f'No Events:  {round(np.mean(portion_no_events_after_cut_test)*100,2)} %,   n={round(n*0.3*np.mean(portion_no_events_after_cut_test),0)}\\n')\n",
    "            f.write(f'Censored:   {round(np.mean(portion_censored_after_cut_test)*100,2)}  %,   n={round(n*0.3*np.mean(portion_censored_after_cut_test),0)}\\n')\n",
    "\n",
    "\n",
    "            f.write('\\n\\n### Evaluation: ###\\n')\n",
    "            f.write(f'WB C-Index IPCW: {np.mean(wb_cindex_ipcw):.4f}\\n')\n",
    "            f.write(f'WB MSE IPCW: {np.mean(wb_mse_ipcw):.4f}\\n')\n",
    "            f.write(f'RF MSE IPCW: {np.mean(rf_mse_ipcw):.4f}\\n')\n",
    "            f.write('\\n')\n",
    "\n",
    "            f.write('\\n###Prediction Results:###\\n')\n",
    "            S_t = calculate_true_survival_probability(X_erwartung, params_data_creation, tau)\n",
    "            f.write(f'True Y: {S_t:.4}f\\n')\n",
    "            f.write(f'WB Y_pred: {np.mean(wb_y_pred_X_point):.4f}\\n')\n",
    "            f.write(f'RF Y_pred: {np.mean(rf_y_pred_X_point):.4f}\\n')\n",
    "            f.write('\\n')\n",
    "\n",
    "\n",
    "\n",
    "            f.write('\\n\\n### Simulation Parameters: ###\\n')\n",
    "            f.write('first_level_B for bootstrap variance estimation (B_1): '+str(B_1)+'\\n')\n",
    "\n",
    "            f.write('Data Creation Parameters:\\n')\n",
    "            f.write(str(params_data_creation))\n",
    "            \n",
    "            f.write('\\nRandom Forest Parameter:\\n')\n",
    "            f.write(str(params_rf)+'\\n')\n",
    "            f.write(f'the above seeds ({seed}) are start_seed for the simulation function\\n')\n",
    "\n",
    "        print(experiment_name+'   finished')\n",
    "        "
   ]
  },
  {
   "cell_type": "markdown",
   "metadata": {},
   "source": [
    "### Simulation n = 1000"
   ]
  },
  {
   "cell_type": "code",
   "execution_count": null,
   "metadata": {},
   "outputs": [],
   "source": [
    "n = int(1000/0.7)\n",
    "tau = 37\n",
    "\n",
    "params_data = [ \n",
    "                { 'shape_weibull': 1, 'scale_weibull_base': 24_300, 'rate_censoring': 0.003,\n",
    "                        'b_bloodp': -0.405, 'b_diab': -0.4, 'b_age': -0.05, 'b_bmi': -0.01, 'b_kreat': -0.2, \n",
    "                        'n': n, 'seed': seed, 'tau': tau},\n",
    "                 { 'shape_weibull': 1, \n",
    "                        'scale_weibull_base': 10803.76159628643   , \n",
    "                        'rate_censoring':0.003170578469623819    ,\n",
    "                        'b_bloodp': -0.405, 'b_diab': -0.4, 'b_age': -0.05, 'b_bmi': -0.01, 'b_kreat': -0.2, \n",
    "                        'n': n, 'seed': seed, 'tau': tau},\n",
    "                 { 'shape_weibull': 1, \n",
    "                        'scale_weibull_base': 6539.41883092019  , \n",
    "                        'rate_censoring':0.0033904243453215187,\n",
    "                        'b_bloodp': -0.405, 'b_diab': -0.4, 'b_age': -0.05, 'b_bmi': -0.01, 'b_kreat': -0.2, \n",
    "                        'n': n, 'seed': seed, 'tau': tau},\n",
    "                 { 'shape_weibull': 1, \n",
    "                        'scale_weibull_base':  4453.164150258696    , \n",
    "                        'rate_censoring': 0.003624326851330594   ,\n",
    "                        'b_bloodp': -0.405, 'b_diab': -0.4, 'b_age': -0.05, 'b_bmi': -0.01, 'b_kreat': -0.2, \n",
    "                        'n': n, 'seed': seed, 'tau': tau},\n",
    "                 \n",
    "                 { 'shape_weibull': 1, \n",
    "                        'scale_weibull_base':   28000   , \n",
    "                        'rate_censoring': 0.01,\n",
    "                        'b_bloodp': -0.405, 'b_diab': -0.4, 'b_age': -0.05, 'b_bmi': -0.01, 'b_kreat': -0.2, \n",
    "                        'n': n, 'seed': seed, 'tau': tau},\n",
    "                { 'shape_weibull': 1, \n",
    "                        'scale_weibull_base':  12463.811039838654   , \n",
    "                        'rate_censoring': 0.010725364504143705      ,\n",
    "                        'b_bloodp': -0.405, 'b_diab': -0.4, 'b_age': -0.05, 'b_bmi': -0.01, 'b_kreat': -0.2, \n",
    "                        'n': n, 'seed': seed, 'tau': tau},\n",
    "                 { 'shape_weibull': 1, \n",
    "                        'scale_weibull_base':7500     , \n",
    "                        'rate_censoring':  0.011600103696876245    ,\n",
    "                        'b_bloodp': -0.405, 'b_diab': -0.4, 'b_age': -0.05, 'b_bmi': -0.01, 'b_kreat': -0.2, \n",
    "                        'n': n, 'seed': seed, 'tau': tau},\n",
    "                  { 'shape_weibull': 1, \n",
    "                        'scale_weibull_base':  5122.0241237382925    , \n",
    "                        'rate_censoring':  0.012470507897824007      ,\n",
    "                        'b_bloodp': -0.405, 'b_diab': -0.4, 'b_age': -0.05, 'b_bmi': -0.01, 'b_kreat': -0.2, \n",
    "                        'n': n, 'seed': seed, 'tau': tau},\n",
    "                  \n",
    "                  { 'shape_weibull': 1, \n",
    "                        'scale_weibull_base': 34000     , \n",
    "                        'rate_censoring':  0.019578490533008537    ,\n",
    "                        'b_bloodp': -0.405, 'b_diab': -0.4, 'b_age': -0.05, 'b_bmi': -0.01, 'b_kreat': -0.2, \n",
    "                        'n': n, 'seed': seed, 'tau': tau},\n",
    "                  { 'shape_weibull': 1, \n",
    "                        'scale_weibull_base': 15800      , \n",
    "                        'rate_censoring':  0.02052170406791234   ,\n",
    "                        'b_bloodp': -0.405, 'b_diab': -0.4, 'b_age': -0.05, 'b_bmi': -0.01, 'b_kreat': -0.2, \n",
    "                        'n': n, 'seed': seed, 'tau': tau},\n",
    "                  { 'shape_weibull': 1, \n",
    "                        'scale_weibull_base': 9600      , \n",
    "                        'rate_censoring':  0.0218      ,\n",
    "                        'b_bloodp': -0.405, 'b_diab': -0.4, 'b_age': -0.05, 'b_bmi': -0.01, 'b_kreat': -0.2, \n",
    "                        'n': n, 'seed': seed, 'tau': tau},\n",
    "                  { 'shape_weibull': 1, \n",
    "                        'scale_weibull_base': 6600       , \n",
    "                        'rate_censoring':  0.022901136686777616      ,\n",
    "                        'b_bloodp': -0.405, 'b_diab': -0.4, 'b_age': -0.05, 'b_bmi': -0.01, 'b_kreat': -0.2, \n",
    "                        'n': n, 'seed': seed, 'tau': tau},\n",
    "                  \n",
    "                  { 'shape_weibull': 1, \n",
    "                        'scale_weibull_base': 45_000       , \n",
    "                        'rate_censoring':  0.034   ,\n",
    "                        'b_bloodp': -0.405, 'b_diab': -0.4, 'b_age': -0.05, 'b_bmi': -0.01, 'b_kreat': -0.2, \n",
    "                        'n': n, 'seed': seed, 'tau': tau},\n",
    "                  { 'shape_weibull': 1, \n",
    "                        'scale_weibull_base': 21700       , \n",
    "                        'rate_censoring':  0.0352   ,\n",
    "                        'b_bloodp': -0.405, 'b_diab': -0.4, 'b_age': -0.05, 'b_bmi': -0.01, 'b_kreat': -0.2, \n",
    "                        'n': n, 'seed': seed, 'tau': tau},\n",
    "                  { 'shape_weibull': 1, \n",
    "                        'scale_weibull_base': 13_000       , \n",
    "                        'rate_censoring':  0.0375   ,\n",
    "                        'b_bloodp': -0.405, 'b_diab': -0.4, 'b_age': -0.05, 'b_bmi': -0.01, 'b_kreat': -0.2, \n",
    "                        'n': n, 'seed': seed, 'tau': tau},\n",
    "                  { 'shape_weibull': 1, \n",
    "                        'scale_weibull_base': 9115.851814783131        , \n",
    "                        'rate_censoring':  0.04021055606963396   ,\n",
    "                        'b_bloodp': -0.405, 'b_diab': -0.4, 'b_age': -0.05, 'b_bmi': -0.01, 'b_kreat': -0.2, \n",
    "                        'n': n, 'seed': seed, 'tau': tau}\n",
    "                ]\n",
    "\n",
    "for B_RF in [500,1000,2000,4000]: \n",
    "    for  params_data_creation in params_data:\n",
    "        ### Simulation\n",
    "        X_erwartung = pd.DataFrame({'bmi': [25], 'blood_pressure': [0], 'kreatinkinase': [np.exp(5+1/2)], 'diabetes': [0], 'age': [50]})\n",
    "        params_rf = {   'n_estimators':B_RF,                        \n",
    "                        'max_depth':4,\n",
    "                        'min_samples_split':5,\n",
    "                        'max_features': 'log2',\n",
    "                        'random_state':  seed,\n",
    "                        'weighted_bootstrapping': True, }\n",
    "\n",
    "        ######## Start Simulation   ########\n",
    "        with ProcessPoolExecutor() as executor:\n",
    "            \n",
    "            ### Array to store the results\n",
    "            portion_events_after_cut_train = np.zeros(n_sim)\n",
    "            portion_censored_after_cut_train = np.zeros(n_sim)\n",
    "            portion_no_events_after_cut_train = np.zeros(n_sim)\n",
    "            portion_events_after_cut_test = np.zeros(n_sim)\n",
    "            portion_censored_after_cut_test = np.zeros(n_sim)\n",
    "            portion_no_events_after_cut_test = np.zeros(n_sim)\n",
    "            wb_mse_ipcw = np.zeros(n_sim)\n",
    "            wb_cindex_ipcw = np.zeros(n_sim)\n",
    "            wb_y_pred_X_point = np.zeros(n_sim)\n",
    "            rf_mse_ipcw = np.zeros(n_sim)\n",
    "            rf_y_pred_X_point = np.zeros(n_sim)\n",
    "            ijk_var_pred_X_point = np.zeros(n_sim)\n",
    "            ijk_var_biased_X_point = np.zeros(n_sim)\n",
    "            bootstrap_var_pred_X_point = np.zeros(n_sim)\n",
    "            jk_ab_var_pred_X_point = np.zeros(n_sim)\n",
    "            \n",
    "\n",
    "            futures = [\n",
    "                executor.submit(\n",
    "                    simulation,\n",
    "                    seed=seed+i,\n",
    "                    tau=tau, \n",
    "                    data_generation_weibull_parameters=params_data_creation,\n",
    "                    params_rf=params_rf, \n",
    "                    X_pred_point=X_erwartung,\n",
    "                    B_first_level = B_1,\n",
    "                    boot_std_calc = boot_var_calc,\n",
    "                    ijk_std_calc = ijk_std_calc,\n",
    "                    train_models = train_models,\n",
    "                    jk_ab_calc = jk_ab_calc\n",
    "                )\n",
    "                for i in range(n_sim)\n",
    "            ]\n",
    "\n",
    "            for i, future in enumerate(tqdm(futures, desc=\"Simulations\", unit=\"simulation\")):\n",
    "                _portion_events_after_cut_train, _portion_censored_after_cut_train, _portion_no_events_after_cut_train, \\\n",
    "                _portion_events_after_cut_test, _portion_censored_after_cut_test, _portion_no_events_after_cut_test, \\\n",
    "                _wb_mse_ipcw, _wb_cindex_ipcw, _wb_y_pred_X_point, \\\n",
    "                _rf_mse_ipcw, _rf_y_pred_X_point, _ijk_biased_var_pred_X_point,_ijk_correction, _bootstrap_var_pred_X_point, _jk_ab_var_pred_X_point  = future.result()\n",
    "\n",
    "   \n",
    "\n",
    "                #Event-Stats Results\n",
    "                portion_events_after_cut_train[i] = _portion_events_after_cut_train\n",
    "                portion_censored_after_cut_train[i] = _portion_censored_after_cut_train\n",
    "                portion_no_events_after_cut_train[i] = _portion_no_events_after_cut_train\n",
    "                portion_events_after_cut_test[i] = _portion_events_after_cut_test\n",
    "                portion_censored_after_cut_test[i] = _portion_censored_after_cut_test\n",
    "                portion_no_events_after_cut_test[i] = _portion_no_events_after_cut_test\n",
    "                \n",
    "                #Evaluation Results\n",
    "                wb_mse_ipcw[i] = _wb_mse_ipcw\n",
    "                wb_cindex_ipcw[i] = _wb_cindex_ipcw\n",
    "                rf_mse_ipcw[i] = _rf_mse_ipcw\n",
    "\n",
    "                #Prediction Results\n",
    "                wb_y_pred_X_point[i] = _wb_y_pred_X_point[0]\n",
    "                rf_y_pred_X_point[i] = _rf_y_pred_X_point[0]\n",
    "\n",
    "                # Standard Deviation Estimates\n",
    "                ijk_var_pred_X_point[i]  = [_ijk_biased_var_pred_X_point - _ijk_correction][0][0]\n",
    "                ijk_var_biased_X_point[i] = _ijk_biased_var_pred_X_point\n",
    "                jk_ab_var_pred_X_point[i] = _jk_ab_var_pred_X_point\n",
    "                bootstrap_var_pred_X_point[i] = _bootstrap_var_pred_X_point\n",
    "\n",
    "        ########## Save Results ############\n",
    "        results = pd.DataFrame({'wb_mse_ipcw': wb_mse_ipcw,\n",
    "                                'wb_cindex_ipcw': wb_cindex_ipcw,\n",
    "                                'rf_mse_ipcw': rf_mse_ipcw,\n",
    "                                'wb_y_pred_X_point': wb_y_pred_X_point,\n",
    "                                'rf_y_pred_X_point': rf_y_pred_X_point,\n",
    "                                'ijk_var_pred_X_point': ijk_var_pred_X_point,\n",
    "                                'ijk_var_biased_X_point': ijk_var_biased_X_point,\n",
    "                                'jk_ab_var_pred_X_point': jk_ab_var_pred_X_point,\n",
    "                                'bootstrap_var_pred_X_point': bootstrap_var_pred_X_point})\n",
    "        path = os.path.abspath('')\n",
    "        experiment_name = f'n_train{int(n*0.7)}_Events{round(n*0.7*np.mean(portion_events_after_cut_train),0)}({round(np.mean(portion_events_after_cut_train)*100,2)}%)_Cens{round(n*0.7*np.mean(portion_censored_after_cut_train),0)}({round(np.mean(portion_censored_after_cut_train)*100,2)}%)_(B_RF){B_RF}__(B_1){B_1}'\n",
    "        if not os.path.exists(path + '/results/'+experiment_name):\n",
    "            os.makedirs(path + '/results/'+experiment_name)\n",
    "\n",
    "        # Abspeichern der Ergebnise in einer .csv Datei und txt Datei in results ordner \n",
    "        results.to_csv(path + '/results/'+experiment_name+'/'+experiment_name+'.csv', index=False)\n",
    "        if not os.path.exists(path + '/results_txt'):\n",
    "            os.makedirs(path + '/results_txt')\n",
    "        with open(path + '/results/'+experiment_name+'/results.txt', 'w') as f:\n",
    "\n",
    "            f.write(f'n_train= {int(n*0.7)}// Events: {round(n*0.7*np.mean(portion_events_after_cut_train),0)} ({round(np.mean(portion_events_after_cut_train)*100,2)} %) // Censored: {round(n*0.7*np.mean(portion_censored_after_cut_train),0)} ({round(np.mean(portion_censored_after_cut_train)*100,2)} %) // B_RF: {B_RF} // (B_1): {B_1} \\n')\n",
    "\n",
    "            f.write('\\n### Standard Deviation: ###\\n')\n",
    "            a = np.std(wb_y_pred_X_point,ddof=1)\n",
    "            f.write(f'WB EMP-STD:                 {a:.4f}\\n')\n",
    "            b = np.std(rf_y_pred_X_point,ddof=1)\n",
    "            f.write(f'RF EMP-STD:                 {b:.4f}\\n\\n')\n",
    "\n",
    "            non_neg_var_ijk_est = ijk_var_pred_X_point.copy()\n",
    "            non_neg_var_ijk_est[non_neg_var_ijk_est<0] = 0\n",
    "            # erst die wurzel ziehen und dann den mittelwert bilden\n",
    "            a = np.mean(np.sqrt(  non_neg_var_ijk_est    ))\n",
    "            f.write(f'IJK STD (for RF) Mean-est               : {a:.4f}  \\n rel. Abweichung zu emp. std {(a-b)/b*100:.4f} % \\n std. des schätzers {np.std(np.sqrt(  non_neg_var_ijk_est    )):.4f}\\n\\n')\n",
    "            \n",
    "            non_neg_var_ijk_est = ijk_var_biased_X_point.copy()\n",
    "            non_neg_var_ijk_est[non_neg_var_ijk_est<0] = 0\n",
    "            # erst die wurzel ziehen und dann den mittelwert bilden\n",
    "            a = np.mean(np.sqrt(  non_neg_var_ijk_est    ))\n",
    "            f.write(f'IJK STD - biased (for RF) Mean-est               : {a:.4f}  \\n rel. Abweichung zu emp. std {(a-b)/b*100:.4f} % \\n std. des schätzers {np.std(np.sqrt(  non_neg_var_ijk_est    )):.4f}\\n\\n')\n",
    "            \n",
    "            non_neg_var_ijk_est = jk_ab_var_pred_X_point.copy()\n",
    "            non_neg_var_ijk_est[non_neg_var_ijk_est<0] = 0\n",
    "            # erst die wurzel ziehen und dann den mittelwert bilden\n",
    "            a = np.mean(np.sqrt(  non_neg_var_ijk_est    ))\n",
    "            f.write(f'JK-AB(un-weighted) STD (for RF) Mean-est: {a:.4f} \\n rel. Abweichung zu emp. std {(a-b)/b*100:.4f} %  \\n std. des schätzers {np.std(np.sqrt(  non_neg_var_ijk_est    )):.4f} \\n\\n')\n",
    "\n",
    "            a = np.mean(np.sqrt(  bootstrap_var_pred_X_point    ))\n",
    "            f.write(f'Boot STD (for RF) Mean-est              : {a:.4f} \\n rel. Abweichung zu emp. std {(a-b)/b*100:.4f} %  \\n std. des schätzers {np.std(np.sqrt(  a    )):.4f} \\n\\n')\n",
    "\n",
    "\n",
    "\n",
    "\n",
    "            f.write('\\n\\n### mean Data Stats over all simulations: ###\\n')\n",
    "            f.write('Number of simulations: '+str(n_sim)+'\\n')\n",
    "            f.write('cut-off time tau: '+str(tau)+'\\n\\n')\n",
    "            f.write(f'Train ({int(n*0.7)}):\\n')\n",
    "            f.write(f'Events:     {round(np.mean(portion_events_after_cut_train)*100,2)}  %,  n={round(n*0.7*np.mean(portion_events_after_cut_train),0)}\\n')\n",
    "            f.write(f'No Events:  {round(np.mean(portion_no_events_after_cut_train)*100,2)} %,  n={round(n*0.7*np.mean(portion_no_events_after_cut_train),0)}\\n')\n",
    "            f.write(f'Censored:   {round(np.mean(portion_censored_after_cut_train)*100,2)} %,  n={round(n*0.7*np.mean(portion_censored_after_cut_train),0)}\\n')\n",
    "            f.write(f'Test  ({int(n*0.3)}):\\n')\n",
    "            f.write(f'Events:     {round(np.mean(portion_events_after_cut_test)*100,2)}  %,   n={round(n*0.3*np.mean(portion_events_after_cut_test),0)}\\n')\n",
    "            f.write(f'No Events:  {round(np.mean(portion_no_events_after_cut_test)*100,2)} %,   n={round(n*0.3*np.mean(portion_no_events_after_cut_test),0)}\\n')\n",
    "            f.write(f'Censored:   {round(np.mean(portion_censored_after_cut_test)*100,2)}  %,   n={round(n*0.3*np.mean(portion_censored_after_cut_test),0)}\\n')\n",
    "\n",
    "\n",
    "            f.write('\\n\\n### Evaluation: ###\\n')\n",
    "            f.write(f'WB C-Index IPCW: {np.mean(wb_cindex_ipcw):.4f}\\n')\n",
    "            f.write(f'WB MSE IPCW: {np.mean(wb_mse_ipcw):.4f}\\n')\n",
    "            f.write(f'RF MSE IPCW: {np.mean(rf_mse_ipcw):.4f}\\n')\n",
    "            f.write('\\n')\n",
    "\n",
    "            f.write('\\n###Prediction Results:###\\n')\n",
    "            S_t = calculate_true_survival_probability(X_erwartung, params_data_creation, tau)\n",
    "            f.write(f'True Y: {S_t:.4}f\\n')\n",
    "            f.write(f'WB Y_pred: {np.mean(wb_y_pred_X_point):.4f}\\n')\n",
    "            f.write(f'RF Y_pred: {np.mean(rf_y_pred_X_point):.4f}\\n')\n",
    "            f.write('\\n')\n",
    "\n",
    "\n",
    "\n",
    "            f.write('\\n\\n### Simulation Parameters: ###\\n')\n",
    "            f.write('first_level_B for bootstrap variance estimation (B_1): '+str(B_1)+'\\n')\n",
    "\n",
    "            f.write('Data Creation Parameters:\\n')\n",
    "            f.write(str(params_data_creation))\n",
    "            \n",
    "            f.write('\\nRandom Forest Parameter:\\n')\n",
    "            f.write(str(params_rf)+'\\n')\n",
    "            f.write(f'the above seeds ({seed}) are start_seed for the simulation function\\n')\n",
    "\n",
    "        print(experiment_name+'   finished')"
   ]
  },
  {
   "cell_type": "markdown",
   "metadata": {},
   "source": [
    "### Simulation n = 2000"
   ]
  },
  {
   "cell_type": "code",
   "execution_count": null,
   "metadata": {},
   "outputs": [],
   "source": [
    "n = int(2000/0.7)\n",
    "tau = 37\n",
    "\n",
    "params_data = [ \n",
    "                  { 'shape_weibull': 1, \n",
    "                        'scale_weibull_base':  5122.0241237382925    , \n",
    "                        'rate_censoring':  0.012470507897824007      ,\n",
    "                        'b_bloodp': -0.405, 'b_diab': -0.4, 'b_age': -0.05, 'b_bmi': -0.01, 'b_kreat': -0.2, \n",
    "                        'n': n, 'seed': seed, 'tau': tau},\n",
    "                  \n",
    "                  { 'shape_weibull': 1, \n",
    "                        'scale_weibull_base': 34000     , \n",
    "                        'rate_censoring':  0.019578490533008537    ,\n",
    "                        'b_bloodp': -0.405, 'b_diab': -0.4, 'b_age': -0.05, 'b_bmi': -0.01, 'b_kreat': -0.2, \n",
    "                        'n': n, 'seed': seed, 'tau': tau},\n",
    "                  { 'shape_weibull': 1, \n",
    "                        'scale_weibull_base': 15800      , \n",
    "                        'rate_censoring':  0.02052170406791234   ,\n",
    "                        'b_bloodp': -0.405, 'b_diab': -0.4, 'b_age': -0.05, 'b_bmi': -0.01, 'b_kreat': -0.2, \n",
    "                        'n': n, 'seed': seed, 'tau': tau},\n",
    "                  { 'shape_weibull': 1, \n",
    "                        'scale_weibull_base': 9600      , \n",
    "                        'rate_censoring':  0.0218      ,\n",
    "                        'b_bloodp': -0.405, 'b_diab': -0.4, 'b_age': -0.05, 'b_bmi': -0.01, 'b_kreat': -0.2, \n",
    "                        'n': n, 'seed': seed, 'tau': tau},\n",
    "                  { 'shape_weibull': 1, \n",
    "                        'scale_weibull_base': 6600       , \n",
    "                        'rate_censoring':  0.022901136686777616      ,\n",
    "                        'b_bloodp': -0.405, 'b_diab': -0.4, 'b_age': -0.05, 'b_bmi': -0.01, 'b_kreat': -0.2, \n",
    "                        'n': n, 'seed': seed, 'tau': tau},\n",
    "                  \n",
    "                  { 'shape_weibull': 1, \n",
    "                        'scale_weibull_base': 45_000       , \n",
    "                        'rate_censoring':  0.034   ,\n",
    "                        'b_bloodp': -0.405, 'b_diab': -0.4, 'b_age': -0.05, 'b_bmi': -0.01, 'b_kreat': -0.2, \n",
    "                        'n': n, 'seed': seed, 'tau': tau},\n",
    "                  { 'shape_weibull': 1, \n",
    "                        'scale_weibull_base': 21700       , \n",
    "                        'rate_censoring':  0.0352   ,\n",
    "                        'b_bloodp': -0.405, 'b_diab': -0.4, 'b_age': -0.05, 'b_bmi': -0.01, 'b_kreat': -0.2, \n",
    "                        'n': n, 'seed': seed, 'tau': tau},\n",
    "                  { 'shape_weibull': 1, \n",
    "                        'scale_weibull_base': 13_000       , \n",
    "                        'rate_censoring':  0.0375   ,\n",
    "                        'b_bloodp': -0.405, 'b_diab': -0.4, 'b_age': -0.05, 'b_bmi': -0.01, 'b_kreat': -0.2, \n",
    "                        'n': n, 'seed': seed, 'tau': tau},\n",
    "                  { 'shape_weibull': 1, \n",
    "                        'scale_weibull_base': 9115.851814783131        , \n",
    "                        'rate_censoring':  0.04021055606963396   ,\n",
    "                        'b_bloodp': -0.405, 'b_diab': -0.4, 'b_age': -0.05, 'b_bmi': -0.01, 'b_kreat': -0.2, \n",
    "                        'n': n, 'seed': seed, 'tau': tau}\n",
    "                ]\n",
    "\n",
    "for B_RF in [4000]: \n",
    "    for  params_data_creation in params_data:\n",
    "        ### Simulation\n",
    "        X_erwartung = pd.DataFrame({'bmi': [25], 'blood_pressure': [0], 'kreatinkinase': [np.exp(5+1/2)], 'diabetes': [0], 'age': [50]})\n",
    "        params_rf = {   'n_estimators':B_RF,                        \n",
    "                        'max_depth':4,\n",
    "                        'min_samples_split':5,\n",
    "                        'max_features': 'log2',\n",
    "                        'random_state':  seed,\n",
    "                        'weighted_bootstrapping': True, }\n",
    "\n",
    "        ######## Start Simulation   ########\n",
    "        with ProcessPoolExecutor() as executor:\n",
    "            \n",
    "            ### Array to store the results\n",
    "            portion_events_after_cut_train = np.zeros(n_sim)\n",
    "            portion_censored_after_cut_train = np.zeros(n_sim)\n",
    "            portion_no_events_after_cut_train = np.zeros(n_sim)\n",
    "            portion_events_after_cut_test = np.zeros(n_sim)\n",
    "            portion_censored_after_cut_test = np.zeros(n_sim)\n",
    "            portion_no_events_after_cut_test = np.zeros(n_sim)\n",
    "            wb_mse_ipcw = np.zeros(n_sim)\n",
    "            wb_cindex_ipcw = np.zeros(n_sim)\n",
    "            wb_y_pred_X_point = np.zeros(n_sim)\n",
    "            rf_mse_ipcw = np.zeros(n_sim)\n",
    "            rf_y_pred_X_point = np.zeros(n_sim)\n",
    "            ijk_var_pred_X_point = np.zeros(n_sim)\n",
    "            ijk_var_biased_X_point = np.zeros(n_sim)\n",
    "            bootstrap_var_pred_X_point = np.zeros(n_sim)\n",
    "            jk_ab_var_pred_X_point = np.zeros(n_sim)\n",
    "            \n",
    "\n",
    "            futures = [\n",
    "                executor.submit(\n",
    "                    simulation,\n",
    "                    seed=seed+i,\n",
    "                    tau=tau, \n",
    "                    data_generation_weibull_parameters=params_data_creation,\n",
    "                    params_rf=params_rf, \n",
    "                    X_pred_point=X_erwartung,\n",
    "                    B_first_level = B_1,\n",
    "                    boot_std_calc = boot_var_calc,\n",
    "                    ijk_std_calc = ijk_std_calc,\n",
    "                    train_models = train_models,\n",
    "                    jk_ab_calc = jk_ab_calc\n",
    "                )\n",
    "                for i in range(n_sim)\n",
    "            ]\n",
    "\n",
    "            for i, future in enumerate(tqdm(futures, desc=\"Simulations\", unit=\"simulation\")):\n",
    "                _portion_events_after_cut_train, _portion_censored_after_cut_train, _portion_no_events_after_cut_train, \\\n",
    "                _portion_events_after_cut_test, _portion_censored_after_cut_test, _portion_no_events_after_cut_test, \\\n",
    "                _wb_mse_ipcw, _wb_cindex_ipcw, _wb_y_pred_X_point, \\\n",
    "                _rf_mse_ipcw, _rf_y_pred_X_point, _ijk_biased_var_pred_X_point,_ijk_correction, _bootstrap_var_pred_X_point, _jk_ab_var_pred_X_point  = future.result()\n",
    "\n",
    "   \n",
    "\n",
    "                #Event-Stats Results\n",
    "                portion_events_after_cut_train[i] = _portion_events_after_cut_train\n",
    "                portion_censored_after_cut_train[i] = _portion_censored_after_cut_train\n",
    "                portion_no_events_after_cut_train[i] = _portion_no_events_after_cut_train\n",
    "                portion_events_after_cut_test[i] = _portion_events_after_cut_test\n",
    "                portion_censored_after_cut_test[i] = _portion_censored_after_cut_test\n",
    "                portion_no_events_after_cut_test[i] = _portion_no_events_after_cut_test\n",
    "                \n",
    "                #Evaluation Results\n",
    "                wb_mse_ipcw[i] = _wb_mse_ipcw\n",
    "                wb_cindex_ipcw[i] = _wb_cindex_ipcw\n",
    "                rf_mse_ipcw[i] = _rf_mse_ipcw\n",
    "\n",
    "                #Prediction Results\n",
    "                wb_y_pred_X_point[i] = _wb_y_pred_X_point[0]\n",
    "                rf_y_pred_X_point[i] = _rf_y_pred_X_point[0]\n",
    "\n",
    "                # Standard Deviation Estimates\n",
    "                ijk_var_pred_X_point[i]  = [_ijk_biased_var_pred_X_point - _ijk_correction][0][0]\n",
    "                ijk_var_biased_X_point[i] = _ijk_biased_var_pred_X_point\n",
    "                jk_ab_var_pred_X_point[i] = _jk_ab_var_pred_X_point\n",
    "                bootstrap_var_pred_X_point[i] = _bootstrap_var_pred_X_point\n",
    "\n",
    "        ########## Save Results ############\n",
    "        results = pd.DataFrame({'wb_mse_ipcw': wb_mse_ipcw,\n",
    "                                'wb_cindex_ipcw': wb_cindex_ipcw,\n",
    "                                'rf_mse_ipcw': rf_mse_ipcw,\n",
    "                                'wb_y_pred_X_point': wb_y_pred_X_point,\n",
    "                                'rf_y_pred_X_point': rf_y_pred_X_point,\n",
    "                                'ijk_var_pred_X_point': ijk_var_pred_X_point,\n",
    "                                'ijk_var_biased_X_point': ijk_var_biased_X_point,\n",
    "                                'jk_ab_var_pred_X_point': jk_ab_var_pred_X_point,\n",
    "                                'bootstrap_var_pred_X_point': bootstrap_var_pred_X_point})\n",
    "        path = os.path.abspath('')\n",
    "        experiment_name = f'n_train{int(n*0.7)}_Events{round(n*0.7*np.mean(portion_events_after_cut_train),0)}({round(np.mean(portion_events_after_cut_train)*100,2)}%)_Cens{round(n*0.7*np.mean(portion_censored_after_cut_train),0)}({round(np.mean(portion_censored_after_cut_train)*100,2)}%)_(B_RF){B_RF}__(B_1){B_1}'\n",
    "        if not os.path.exists(path + '/results/'+experiment_name):\n",
    "            os.makedirs(path + '/results/'+experiment_name)\n",
    "\n",
    "        # Abspeichern der Ergebnise in einer .csv Datei und txt Datei in results ordner \n",
    "        results.to_csv(path + '/results/'+experiment_name+'/'+experiment_name+'.csv', index=False)\n",
    "        if not os.path.exists(path + '/results_txt'):\n",
    "            os.makedirs(path + '/results_txt')\n",
    "        with open(path + '/results/'+experiment_name+'/results.txt', 'w') as f:\n",
    "\n",
    "            f.write(f'n_train= {int(n*0.7)}// Events: {round(n*0.7*np.mean(portion_events_after_cut_train),0)} ({round(np.mean(portion_events_after_cut_train)*100,2)} %) // Censored: {round(n*0.7*np.mean(portion_censored_after_cut_train),0)} ({round(np.mean(portion_censored_after_cut_train)*100,2)} %) // B_RF: {B_RF} // (B_1): {B_1} \\n')\n",
    "\n",
    "            f.write('\\n### Standard Deviation: ###\\n')\n",
    "            a = np.std(wb_y_pred_X_point,ddof=1)\n",
    "            f.write(f'WB EMP-STD:                 {a:.4f}\\n')\n",
    "            b = np.std(rf_y_pred_X_point,ddof=1)\n",
    "            f.write(f'RF EMP-STD:                 {b:.4f}\\n\\n')\n",
    "\n",
    "            non_neg_var_ijk_est = ijk_var_pred_X_point.copy()\n",
    "            non_neg_var_ijk_est[non_neg_var_ijk_est<0] = 0\n",
    "            # erst die wurzel ziehen und dann den mittelwert bilden\n",
    "            a = np.mean(np.sqrt(  non_neg_var_ijk_est    ))\n",
    "            f.write(f'IJK STD (for RF) Mean-est               : {a:.4f}  \\n rel. Abweichung zu emp. std {(a-b)/b*100:.4f} % \\n std. des schätzers {np.std(np.sqrt(  non_neg_var_ijk_est    )):.4f}\\n\\n')\n",
    "            \n",
    "            non_neg_var_ijk_est = ijk_var_biased_X_point.copy()\n",
    "            non_neg_var_ijk_est[non_neg_var_ijk_est<0] = 0\n",
    "            # erst die wurzel ziehen und dann den mittelwert bilden\n",
    "            a = np.mean(np.sqrt(  non_neg_var_ijk_est    ))\n",
    "            f.write(f'IJK STD - biased (for RF) Mean-est               : {a:.4f}  \\n rel. Abweichung zu emp. std {(a-b)/b*100:.4f} % \\n std. des schätzers {np.std(np.sqrt(  non_neg_var_ijk_est    )):.4f}\\n\\n')\n",
    "            \n",
    "            non_neg_var_ijk_est = jk_ab_var_pred_X_point.copy()\n",
    "            non_neg_var_ijk_est[non_neg_var_ijk_est<0] = 0\n",
    "            # erst die wurzel ziehen und dann den mittelwert bilden\n",
    "            a = np.mean(np.sqrt(  non_neg_var_ijk_est    ))\n",
    "            f.write(f'JK-AB(un-weighted) STD (for RF) Mean-est: {a:.4f} \\n rel. Abweichung zu emp. std {(a-b)/b*100:.4f} %  \\n std. des schätzers {np.std(np.sqrt(  non_neg_var_ijk_est    )):.4f} \\n\\n')\n",
    "\n",
    "            a = np.mean(np.sqrt(  bootstrap_var_pred_X_point    ))\n",
    "            f.write(f'Boot STD (for RF) Mean-est              : {a:.4f} \\n rel. Abweichung zu emp. std {(a-b)/b*100:.4f} %  \\n std. des schätzers {np.std(np.sqrt(  a    )):.4f} \\n\\n')\n",
    "\n",
    "\n",
    "\n",
    "\n",
    "            f.write('\\n\\n### mean Data Stats over all simulations: ###\\n')\n",
    "            f.write('Number of simulations: '+str(n_sim)+'\\n')\n",
    "            f.write('cut-off time tau: '+str(tau)+'\\n\\n')\n",
    "            f.write(f'Train ({int(n*0.7)}):\\n')\n",
    "            f.write(f'Events:     {round(np.mean(portion_events_after_cut_train)*100,2)}  %,  n={round(n*0.7*np.mean(portion_events_after_cut_train),0)}\\n')\n",
    "            f.write(f'No Events:  {round(np.mean(portion_no_events_after_cut_train)*100,2)} %,  n={round(n*0.7*np.mean(portion_no_events_after_cut_train),0)}\\n')\n",
    "            f.write(f'Censored:   {round(np.mean(portion_censored_after_cut_train)*100,2)} %,  n={round(n*0.7*np.mean(portion_censored_after_cut_train),0)}\\n')\n",
    "            f.write(f'Test  ({int(n*0.3)}):\\n')\n",
    "            f.write(f'Events:     {round(np.mean(portion_events_after_cut_test)*100,2)}  %,   n={round(n*0.3*np.mean(portion_events_after_cut_test),0)}\\n')\n",
    "            f.write(f'No Events:  {round(np.mean(portion_no_events_after_cut_test)*100,2)} %,   n={round(n*0.3*np.mean(portion_no_events_after_cut_test),0)}\\n')\n",
    "            f.write(f'Censored:   {round(np.mean(portion_censored_after_cut_test)*100,2)}  %,   n={round(n*0.3*np.mean(portion_censored_after_cut_test),0)}\\n')\n",
    "\n",
    "\n",
    "            f.write('\\n\\n### Evaluation: ###\\n')\n",
    "            f.write(f'WB C-Index IPCW: {np.mean(wb_cindex_ipcw):.4f}\\n')\n",
    "            f.write(f'WB MSE IPCW: {np.mean(wb_mse_ipcw):.4f}\\n')\n",
    "            f.write(f'RF MSE IPCW: {np.mean(rf_mse_ipcw):.4f}\\n')\n",
    "            f.write('\\n')\n",
    "\n",
    "            f.write('\\n###Prediction Results:###\\n')\n",
    "            S_t = calculate_true_survival_probability(X_erwartung, params_data_creation, tau)\n",
    "            f.write(f'True Y: {S_t:.4}f\\n')\n",
    "            f.write(f'WB Y_pred: {np.mean(wb_y_pred_X_point):.4f}\\n')\n",
    "            f.write(f'RF Y_pred: {np.mean(rf_y_pred_X_point):.4f}\\n')\n",
    "            f.write('\\n')\n",
    "\n",
    "\n",
    "\n",
    "            f.write('\\n\\n### Simulation Parameters: ###\\n')\n",
    "            f.write('first_level_B for bootstrap variance estimation (B_1): '+str(B_1)+'\\n')\n",
    "\n",
    "            f.write('Data Creation Parameters:\\n')\n",
    "            f.write(str(params_data_creation))\n",
    "            \n",
    "            f.write('\\nRandom Forest Parameter:\\n')\n",
    "            f.write(str(params_rf)+'\\n')\n",
    "            f.write(f'the above seeds ({seed}) are start_seed for the simulation function\\n')\n",
    "\n",
    "        print(experiment_name+'   finished')"
   ]
  },
  {
   "cell_type": "markdown",
   "metadata": {},
   "source": [
    "### Simulation n = 4000"
   ]
  },
  {
   "cell_type": "code",
   "execution_count": 3,
   "metadata": {},
   "outputs": [
    {
     "name": "stderr",
     "output_type": "stream",
     "text": [
      "Simulations: 100%|██████████| 1000/1000 [04:01<00:00,  4.13simulation/s]\n"
     ]
    },
    {
     "name": "stdout",
     "output_type": "stream",
     "text": [
      "n_train3999_Events357.0(8.91%)_Cens401.0(10.02%)_(B_RF)500__(B_1)0   finished\n"
     ]
    },
    {
     "name": "stderr",
     "output_type": "stream",
     "text": [
      "Simulations: 100%|██████████| 1000/1000 [04:00<00:00,  4.15simulation/s]\n"
     ]
    },
    {
     "name": "stdout",
     "output_type": "stream",
     "text": [
      "n_train3999_Events726.0(18.15%)_Cens399.0(9.97%)_(B_RF)500__(B_1)0   finished\n"
     ]
    },
    {
     "name": "stderr",
     "output_type": "stream",
     "text": [
      "Simulations: 100%|██████████| 1000/1000 [04:01<00:00,  4.14simulation/s]\n"
     ]
    },
    {
     "name": "stdout",
     "output_type": "stream",
     "text": [
      "n_train3999_Events1084.0(27.11%)_Cens399.0(9.98%)_(B_RF)500__(B_1)0   finished\n"
     ]
    },
    {
     "name": "stderr",
     "output_type": "stream",
     "text": [
      "Simulations: 100%|██████████| 1000/1000 [04:03<00:00,  4.10simulation/s]\n"
     ]
    },
    {
     "name": "stdout",
     "output_type": "stream",
     "text": [
      "n_train3999_Events1431.0(35.79%)_Cens397.0(9.93%)_(B_RF)500__(B_1)0   finished\n"
     ]
    },
    {
     "name": "stderr",
     "output_type": "stream",
     "text": [
      "Simulations: 100%|██████████| 1000/1000 [04:03<00:00,  4.10simulation/s]\n"
     ]
    },
    {
     "name": "stdout",
     "output_type": "stream",
     "text": [
      "n_train3999_Events278.0(6.94%)_Cens1187.0(29.67%)_(B_RF)500__(B_1)0   finished\n"
     ]
    },
    {
     "name": "stderr",
     "output_type": "stream",
     "text": [
      "Simulations: 100%|██████████| 1000/1000 [04:00<00:00,  4.15simulation/s]\n"
     ]
    },
    {
     "name": "stdout",
     "output_type": "stream",
     "text": [
      "n_train3999_Events567.0(14.18%)_Cens1200.0(29.99%)_(B_RF)500__(B_1)0   finished\n"
     ]
    },
    {
     "name": "stderr",
     "output_type": "stream",
     "text": [
      "Simulations: 100%|██████████| 1000/1000 [03:56<00:00,  4.22simulation/s]\n"
     ]
    },
    {
     "name": "stdout",
     "output_type": "stream",
     "text": [
      "n_train3999_Events853.0(21.34%)_Cens1213.0(30.33%)_(B_RF)500__(B_1)0   finished\n"
     ]
    },
    {
     "name": "stderr",
     "output_type": "stream",
     "text": [
      "Simulations: 100%|██████████| 1000/1000 [03:55<00:00,  4.24simulation/s]\n"
     ]
    },
    {
     "name": "stdout",
     "output_type": "stream",
     "text": [
      "n_train3999_Events1129.0(28.24%)_Cens1215.0(30.37%)_(B_RF)500__(B_1)0   finished\n"
     ]
    },
    {
     "name": "stderr",
     "output_type": "stream",
     "text": [
      "Simulations: 100%|██████████| 1000/1000 [03:56<00:00,  4.23simulation/s]\n"
     ]
    },
    {
     "name": "stdout",
     "output_type": "stream",
     "text": [
      "n_train3999_Events198.0(4.95%)_Cens1996.0(49.91%)_(B_RF)500__(B_1)0   finished\n"
     ]
    },
    {
     "name": "stderr",
     "output_type": "stream",
     "text": [
      "Simulations: 100%|██████████| 1000/1000 [03:52<00:00,  4.30simulation/s]\n"
     ]
    },
    {
     "name": "stdout",
     "output_type": "stream",
     "text": [
      "n_train3999_Events395.0(9.87%)_Cens1992.0(49.8%)_(B_RF)500__(B_1)0   finished\n"
     ]
    },
    {
     "name": "stderr",
     "output_type": "stream",
     "text": [
      "Simulations: 100%|██████████| 1000/1000 [03:53<00:00,  4.29simulation/s]\n"
     ]
    },
    {
     "name": "stdout",
     "output_type": "stream",
     "text": [
      "n_train3999_Events596.0(14.91%)_Cens1994.0(49.86%)_(B_RF)500__(B_1)0   finished\n"
     ]
    },
    {
     "name": "stderr",
     "output_type": "stream",
     "text": [
      "Simulations: 100%|██████████| 1000/1000 [03:48<00:00,  4.38simulation/s]\n"
     ]
    },
    {
     "name": "stdout",
     "output_type": "stream",
     "text": [
      "n_train3999_Events798.0(19.96%)_Cens1975.0(49.37%)_(B_RF)500__(B_1)0   finished\n"
     ]
    },
    {
     "name": "stderr",
     "output_type": "stream",
     "text": [
      "Simulations: 100%|██████████| 1000/1000 [03:50<00:00,  4.34simulation/s]\n"
     ]
    },
    {
     "name": "stdout",
     "output_type": "stream",
     "text": [
      "n_train3999_Events122.0(3.05%)_Cens2801.0(70.02%)_(B_RF)500__(B_1)0   finished\n"
     ]
    },
    {
     "name": "stderr",
     "output_type": "stream",
     "text": [
      "Simulations: 100%|██████████| 1000/1000 [03:44<00:00,  4.46simulation/s]\n"
     ]
    },
    {
     "name": "stdout",
     "output_type": "stream",
     "text": [
      "n_train3999_Events239.0(5.97%)_Cens2786.0(69.66%)_(B_RF)500__(B_1)0   finished\n"
     ]
    },
    {
     "name": "stderr",
     "output_type": "stream",
     "text": [
      "Simulations: 100%|██████████| 1000/1000 [03:41<00:00,  4.52simulation/s]\n"
     ]
    },
    {
     "name": "stdout",
     "output_type": "stream",
     "text": [
      "n_train3999_Events367.0(9.18%)_Cens2797.0(69.94%)_(B_RF)500__(B_1)0   finished\n"
     ]
    },
    {
     "name": "stderr",
     "output_type": "stream",
     "text": [
      "Simulations: 100%|██████████| 1000/1000 [03:39<00:00,  4.57simulation/s]\n"
     ]
    },
    {
     "name": "stdout",
     "output_type": "stream",
     "text": [
      "n_train3999_Events483.0(12.08%)_Cens2812.0(70.31%)_(B_RF)500__(B_1)0   finished\n"
     ]
    },
    {
     "name": "stderr",
     "output_type": "stream",
     "text": [
      "Simulations: 100%|██████████| 1000/1000 [07:22<00:00,  2.26simulation/s]\n"
     ]
    },
    {
     "name": "stdout",
     "output_type": "stream",
     "text": [
      "n_train3999_Events357.0(8.91%)_Cens401.0(10.02%)_(B_RF)1000__(B_1)0   finished\n"
     ]
    },
    {
     "name": "stderr",
     "output_type": "stream",
     "text": [
      "Simulations: 100%|██████████| 1000/1000 [07:24<00:00,  2.25simulation/s]\n"
     ]
    },
    {
     "name": "stdout",
     "output_type": "stream",
     "text": [
      "n_train3999_Events726.0(18.15%)_Cens399.0(9.97%)_(B_RF)1000__(B_1)0   finished\n"
     ]
    },
    {
     "name": "stderr",
     "output_type": "stream",
     "text": [
      "Simulations: 100%|██████████| 1000/1000 [07:25<00:00,  2.24simulation/s]\n"
     ]
    },
    {
     "name": "stdout",
     "output_type": "stream",
     "text": [
      "n_train3999_Events1084.0(27.11%)_Cens399.0(9.98%)_(B_RF)1000__(B_1)0   finished\n"
     ]
    },
    {
     "name": "stderr",
     "output_type": "stream",
     "text": [
      "Simulations: 100%|██████████| 1000/1000 [07:22<00:00,  2.26simulation/s]\n"
     ]
    },
    {
     "name": "stdout",
     "output_type": "stream",
     "text": [
      "n_train3999_Events1431.0(35.79%)_Cens397.0(9.93%)_(B_RF)1000__(B_1)0   finished\n"
     ]
    },
    {
     "name": "stderr",
     "output_type": "stream",
     "text": [
      "Simulations: 100%|██████████| 1000/1000 [07:16<00:00,  2.29simulation/s]\n"
     ]
    },
    {
     "name": "stdout",
     "output_type": "stream",
     "text": [
      "n_train3999_Events278.0(6.94%)_Cens1187.0(29.67%)_(B_RF)1000__(B_1)0   finished\n"
     ]
    },
    {
     "name": "stderr",
     "output_type": "stream",
     "text": [
      "Simulations: 100%|██████████| 1000/1000 [07:13<00:00,  2.31simulation/s]\n"
     ]
    },
    {
     "name": "stdout",
     "output_type": "stream",
     "text": [
      "n_train3999_Events567.0(14.18%)_Cens1200.0(29.99%)_(B_RF)1000__(B_1)0   finished\n"
     ]
    },
    {
     "name": "stderr",
     "output_type": "stream",
     "text": [
      "Simulations: 100%|██████████| 1000/1000 [07:08<00:00,  2.33simulation/s]\n"
     ]
    },
    {
     "name": "stdout",
     "output_type": "stream",
     "text": [
      "n_train3999_Events853.0(21.34%)_Cens1213.0(30.33%)_(B_RF)1000__(B_1)0   finished\n"
     ]
    },
    {
     "name": "stderr",
     "output_type": "stream",
     "text": [
      "Simulations: 100%|██████████| 1000/1000 [07:09<00:00,  2.33simulation/s]\n"
     ]
    },
    {
     "name": "stdout",
     "output_type": "stream",
     "text": [
      "n_train3999_Events1129.0(28.24%)_Cens1215.0(30.37%)_(B_RF)1000__(B_1)0   finished\n"
     ]
    },
    {
     "name": "stderr",
     "output_type": "stream",
     "text": [
      "Simulations: 100%|██████████| 1000/1000 [07:01<00:00,  2.37simulation/s]\n"
     ]
    },
    {
     "name": "stdout",
     "output_type": "stream",
     "text": [
      "n_train3999_Events198.0(4.95%)_Cens1996.0(49.91%)_(B_RF)1000__(B_1)0   finished\n"
     ]
    },
    {
     "name": "stderr",
     "output_type": "stream",
     "text": [
      "Simulations: 100%|██████████| 1000/1000 [07:02<00:00,  2.37simulation/s]\n"
     ]
    },
    {
     "name": "stdout",
     "output_type": "stream",
     "text": [
      "n_train3999_Events395.0(9.87%)_Cens1992.0(49.8%)_(B_RF)1000__(B_1)0   finished\n"
     ]
    },
    {
     "name": "stderr",
     "output_type": "stream",
     "text": [
      "Simulations: 100%|██████████| 1000/1000 [06:56<00:00,  2.40simulation/s]\n"
     ]
    },
    {
     "name": "stdout",
     "output_type": "stream",
     "text": [
      "n_train3999_Events596.0(14.91%)_Cens1994.0(49.86%)_(B_RF)1000__(B_1)0   finished\n"
     ]
    },
    {
     "name": "stderr",
     "output_type": "stream",
     "text": [
      "Simulations: 100%|██████████| 1000/1000 [06:57<00:00,  2.39simulation/s]\n"
     ]
    },
    {
     "name": "stdout",
     "output_type": "stream",
     "text": [
      "n_train3999_Events798.0(19.96%)_Cens1975.0(49.37%)_(B_RF)1000__(B_1)0   finished\n"
     ]
    },
    {
     "name": "stderr",
     "output_type": "stream",
     "text": [
      "Simulations: 100%|██████████| 1000/1000 [06:50<00:00,  2.44simulation/s]\n"
     ]
    },
    {
     "name": "stdout",
     "output_type": "stream",
     "text": [
      "n_train3999_Events122.0(3.05%)_Cens2801.0(70.02%)_(B_RF)1000__(B_1)0   finished\n"
     ]
    },
    {
     "name": "stderr",
     "output_type": "stream",
     "text": [
      "Simulations: 100%|██████████| 1000/1000 [06:42<00:00,  2.49simulation/s]\n"
     ]
    },
    {
     "name": "stdout",
     "output_type": "stream",
     "text": [
      "n_train3999_Events239.0(5.97%)_Cens2786.0(69.66%)_(B_RF)1000__(B_1)0   finished\n"
     ]
    },
    {
     "name": "stderr",
     "output_type": "stream",
     "text": [
      "Simulations: 100%|██████████| 1000/1000 [07:27<00:00,  2.23simulation/s]\n"
     ]
    },
    {
     "name": "stdout",
     "output_type": "stream",
     "text": [
      "n_train3999_Events367.0(9.18%)_Cens2797.0(69.94%)_(B_RF)1000__(B_1)0   finished\n"
     ]
    },
    {
     "name": "stderr",
     "output_type": "stream",
     "text": [
      "Simulations: 100%|██████████| 1000/1000 [07:37<00:00,  2.18simulation/s]\n"
     ]
    },
    {
     "name": "stdout",
     "output_type": "stream",
     "text": [
      "n_train3999_Events483.0(12.08%)_Cens2812.0(70.31%)_(B_RF)1000__(B_1)0   finished\n"
     ]
    },
    {
     "name": "stderr",
     "output_type": "stream",
     "text": [
      "Simulations: 100%|██████████| 1000/1000 [14:30<00:00,  1.15simulation/s]\n"
     ]
    },
    {
     "name": "stdout",
     "output_type": "stream",
     "text": [
      "n_train3999_Events357.0(8.91%)_Cens401.0(10.02%)_(B_RF)2000__(B_1)0   finished\n"
     ]
    },
    {
     "name": "stderr",
     "output_type": "stream",
     "text": [
      "Simulations: 100%|██████████| 1000/1000 [16:06<00:00,  1.04simulation/s]\n"
     ]
    },
    {
     "name": "stdout",
     "output_type": "stream",
     "text": [
      "n_train3999_Events726.0(18.15%)_Cens399.0(9.97%)_(B_RF)2000__(B_1)0   finished\n"
     ]
    },
    {
     "name": "stderr",
     "output_type": "stream",
     "text": [
      "Simulations: 100%|██████████| 1000/1000 [15:25<00:00,  1.08simulation/s]\n"
     ]
    },
    {
     "name": "stdout",
     "output_type": "stream",
     "text": [
      "n_train3999_Events1084.0(27.11%)_Cens399.0(9.98%)_(B_RF)2000__(B_1)0   finished\n"
     ]
    },
    {
     "name": "stderr",
     "output_type": "stream",
     "text": [
      "Simulations: 100%|██████████| 1000/1000 [15:10<00:00,  1.10simulation/s]\n"
     ]
    },
    {
     "name": "stdout",
     "output_type": "stream",
     "text": [
      "n_train3999_Events1431.0(35.79%)_Cens397.0(9.93%)_(B_RF)2000__(B_1)0   finished\n"
     ]
    },
    {
     "name": "stderr",
     "output_type": "stream",
     "text": [
      "Simulations: 100%|██████████| 1000/1000 [15:53<00:00,  1.05simulation/s]\n"
     ]
    },
    {
     "name": "stdout",
     "output_type": "stream",
     "text": [
      "n_train3999_Events278.0(6.94%)_Cens1187.0(29.67%)_(B_RF)2000__(B_1)0   finished\n"
     ]
    },
    {
     "name": "stderr",
     "output_type": "stream",
     "text": [
      "Simulations: 100%|██████████| 1000/1000 [15:48<00:00,  1.05simulation/s]\n"
     ]
    },
    {
     "name": "stdout",
     "output_type": "stream",
     "text": [
      "n_train3999_Events567.0(14.18%)_Cens1200.0(29.99%)_(B_RF)2000__(B_1)0   finished\n"
     ]
    },
    {
     "name": "stderr",
     "output_type": "stream",
     "text": [
      "Simulations: 100%|██████████| 1000/1000 [15:35<00:00,  1.07simulation/s]\n"
     ]
    },
    {
     "name": "stdout",
     "output_type": "stream",
     "text": [
      "n_train3999_Events853.0(21.34%)_Cens1213.0(30.33%)_(B_RF)2000__(B_1)0   finished\n"
     ]
    },
    {
     "name": "stderr",
     "output_type": "stream",
     "text": [
      "Simulations: 100%|██████████| 1000/1000 [15:35<00:00,  1.07simulation/s]\n"
     ]
    },
    {
     "name": "stdout",
     "output_type": "stream",
     "text": [
      "n_train3999_Events1129.0(28.24%)_Cens1215.0(30.37%)_(B_RF)2000__(B_1)0   finished\n"
     ]
    },
    {
     "name": "stderr",
     "output_type": "stream",
     "text": [
      "Simulations: 100%|██████████| 1000/1000 [15:19<00:00,  1.09simulation/s]\n"
     ]
    },
    {
     "name": "stdout",
     "output_type": "stream",
     "text": [
      "n_train3999_Events198.0(4.95%)_Cens1996.0(49.91%)_(B_RF)2000__(B_1)0   finished\n"
     ]
    },
    {
     "name": "stderr",
     "output_type": "stream",
     "text": [
      "Simulations: 100%|██████████| 1000/1000 [13:41<00:00,  1.22simulation/s]\n"
     ]
    },
    {
     "name": "stdout",
     "output_type": "stream",
     "text": [
      "n_train3999_Events395.0(9.87%)_Cens1992.0(49.8%)_(B_RF)2000__(B_1)0   finished\n"
     ]
    },
    {
     "name": "stderr",
     "output_type": "stream",
     "text": [
      "Simulations: 100%|██████████| 1000/1000 [12:40<00:00,  1.32simulation/s]\n"
     ]
    },
    {
     "name": "stdout",
     "output_type": "stream",
     "text": [
      "n_train3999_Events596.0(14.91%)_Cens1994.0(49.86%)_(B_RF)2000__(B_1)0   finished\n"
     ]
    },
    {
     "name": "stderr",
     "output_type": "stream",
     "text": [
      "Simulations: 100%|██████████| 1000/1000 [12:40<00:00,  1.32simulation/s]\n"
     ]
    },
    {
     "name": "stdout",
     "output_type": "stream",
     "text": [
      "n_train3999_Events798.0(19.96%)_Cens1975.0(49.37%)_(B_RF)2000__(B_1)0   finished\n"
     ]
    },
    {
     "name": "stderr",
     "output_type": "stream",
     "text": [
      "Simulations: 100%|██████████| 1000/1000 [12:42<00:00,  1.31simulation/s]\n"
     ]
    },
    {
     "name": "stdout",
     "output_type": "stream",
     "text": [
      "n_train3999_Events122.0(3.05%)_Cens2801.0(70.02%)_(B_RF)2000__(B_1)0   finished\n"
     ]
    },
    {
     "name": "stderr",
     "output_type": "stream",
     "text": [
      "Simulations: 100%|██████████| 1000/1000 [12:51<00:00,  1.30simulation/s]\n"
     ]
    },
    {
     "name": "stdout",
     "output_type": "stream",
     "text": [
      "n_train3999_Events239.0(5.97%)_Cens2786.0(69.66%)_(B_RF)2000__(B_1)0   finished\n"
     ]
    },
    {
     "name": "stderr",
     "output_type": "stream",
     "text": [
      "Simulations: 100%|██████████| 1000/1000 [13:20<00:00,  1.25simulation/s]\n"
     ]
    },
    {
     "name": "stdout",
     "output_type": "stream",
     "text": [
      "n_train3999_Events367.0(9.18%)_Cens2797.0(69.94%)_(B_RF)2000__(B_1)0   finished\n"
     ]
    },
    {
     "name": "stderr",
     "output_type": "stream",
     "text": [
      "Simulations: 100%|██████████| 1000/1000 [13:36<00:00,  1.22simulation/s]\n"
     ]
    },
    {
     "name": "stdout",
     "output_type": "stream",
     "text": [
      "n_train3999_Events483.0(12.08%)_Cens2812.0(70.31%)_(B_RF)2000__(B_1)0   finished\n"
     ]
    },
    {
     "name": "stderr",
     "output_type": "stream",
     "text": [
      "Simulations: 100%|██████████| 1000/1000 [29:43<00:00,  1.78s/simulation]\n"
     ]
    },
    {
     "name": "stdout",
     "output_type": "stream",
     "text": [
      "n_train3999_Events357.0(8.91%)_Cens401.0(10.02%)_(B_RF)4000__(B_1)0   finished\n"
     ]
    },
    {
     "name": "stderr",
     "output_type": "stream",
     "text": [
      "Simulations: 100%|██████████| 1000/1000 [30:22<00:00,  1.82s/simulation] \n"
     ]
    },
    {
     "name": "stdout",
     "output_type": "stream",
     "text": [
      "n_train3999_Events726.0(18.15%)_Cens399.0(9.97%)_(B_RF)4000__(B_1)0   finished\n"
     ]
    },
    {
     "name": "stderr",
     "output_type": "stream",
     "text": [
      "Simulations: 100%|██████████| 1000/1000 [30:32<00:00,  1.83s/simulation]\n"
     ]
    },
    {
     "name": "stdout",
     "output_type": "stream",
     "text": [
      "n_train3999_Events1084.0(27.11%)_Cens399.0(9.98%)_(B_RF)4000__(B_1)0   finished\n"
     ]
    },
    {
     "name": "stderr",
     "output_type": "stream",
     "text": [
      "Simulations: 100%|██████████| 1000/1000 [30:23<00:00,  1.82s/simulation]\n"
     ]
    },
    {
     "name": "stdout",
     "output_type": "stream",
     "text": [
      "n_train3999_Events1431.0(35.79%)_Cens397.0(9.93%)_(B_RF)4000__(B_1)0   finished\n"
     ]
    },
    {
     "name": "stderr",
     "output_type": "stream",
     "text": [
      "Simulations: 100%|██████████| 1000/1000 [29:39<00:00,  1.78s/simulation]\n"
     ]
    },
    {
     "name": "stdout",
     "output_type": "stream",
     "text": [
      "n_train3999_Events278.0(6.94%)_Cens1187.0(29.67%)_(B_RF)4000__(B_1)0   finished\n"
     ]
    },
    {
     "name": "stderr",
     "output_type": "stream",
     "text": [
      "Simulations: 100%|██████████| 1000/1000 [26:32<00:00,  1.59s/simulation] \n"
     ]
    },
    {
     "name": "stdout",
     "output_type": "stream",
     "text": [
      "n_train3999_Events567.0(14.18%)_Cens1200.0(29.99%)_(B_RF)4000__(B_1)0   finished\n"
     ]
    },
    {
     "name": "stderr",
     "output_type": "stream",
     "text": [
      "Simulations: 100%|██████████| 1000/1000 [25:40<00:00,  1.54s/simulation]\n"
     ]
    },
    {
     "name": "stdout",
     "output_type": "stream",
     "text": [
      "n_train3999_Events853.0(21.34%)_Cens1213.0(30.33%)_(B_RF)4000__(B_1)0   finished\n"
     ]
    },
    {
     "name": "stderr",
     "output_type": "stream",
     "text": [
      "Simulations: 100%|██████████| 1000/1000 [29:07<00:00,  1.75s/simulation] \n"
     ]
    },
    {
     "name": "stdout",
     "output_type": "stream",
     "text": [
      "n_train3999_Events1129.0(28.24%)_Cens1215.0(30.37%)_(B_RF)4000__(B_1)0   finished\n"
     ]
    },
    {
     "name": "stderr",
     "output_type": "stream",
     "text": [
      "Simulations: 100%|██████████| 1000/1000 [28:25<00:00,  1.71s/simulation]\n"
     ]
    },
    {
     "name": "stdout",
     "output_type": "stream",
     "text": [
      "n_train3999_Events198.0(4.95%)_Cens1996.0(49.91%)_(B_RF)4000__(B_1)0   finished\n"
     ]
    },
    {
     "name": "stderr",
     "output_type": "stream",
     "text": [
      "Simulations: 100%|██████████| 1000/1000 [28:13<00:00,  1.69s/simulation]\n"
     ]
    },
    {
     "name": "stdout",
     "output_type": "stream",
     "text": [
      "n_train3999_Events395.0(9.87%)_Cens1992.0(49.8%)_(B_RF)4000__(B_1)0   finished\n"
     ]
    },
    {
     "name": "stderr",
     "output_type": "stream",
     "text": [
      "Simulations: 100%|██████████| 1000/1000 [28:12<00:00,  1.69s/simulation]\n"
     ]
    },
    {
     "name": "stdout",
     "output_type": "stream",
     "text": [
      "n_train3999_Events596.0(14.91%)_Cens1994.0(49.86%)_(B_RF)4000__(B_1)0   finished\n"
     ]
    },
    {
     "name": "stderr",
     "output_type": "stream",
     "text": [
      "Simulations: 100%|██████████| 1000/1000 [28:13<00:00,  1.69s/simulation]\n"
     ]
    },
    {
     "name": "stdout",
     "output_type": "stream",
     "text": [
      "n_train3999_Events798.0(19.96%)_Cens1975.0(49.37%)_(B_RF)4000__(B_1)0   finished\n"
     ]
    },
    {
     "name": "stderr",
     "output_type": "stream",
     "text": [
      "Simulations: 100%|██████████| 1000/1000 [26:30<00:00,  1.59s/simulation]\n"
     ]
    },
    {
     "name": "stdout",
     "output_type": "stream",
     "text": [
      "n_train3999_Events122.0(3.05%)_Cens2801.0(70.02%)_(B_RF)4000__(B_1)0   finished\n"
     ]
    },
    {
     "name": "stderr",
     "output_type": "stream",
     "text": [
      "Simulations: 100%|██████████| 1000/1000 [26:09<00:00,  1.57s/simulation]\n"
     ]
    },
    {
     "name": "stdout",
     "output_type": "stream",
     "text": [
      "n_train3999_Events239.0(5.97%)_Cens2786.0(69.66%)_(B_RF)4000__(B_1)0   finished\n"
     ]
    },
    {
     "name": "stderr",
     "output_type": "stream",
     "text": [
      "Simulations: 100%|██████████| 1000/1000 [26:11<00:00,  1.57s/simulation]\n"
     ]
    },
    {
     "name": "stdout",
     "output_type": "stream",
     "text": [
      "n_train3999_Events367.0(9.18%)_Cens2797.0(69.94%)_(B_RF)4000__(B_1)0   finished\n"
     ]
    },
    {
     "name": "stderr",
     "output_type": "stream",
     "text": [
      "Simulations: 100%|██████████| 1000/1000 [26:05<00:00,  1.57s/simulation]\n"
     ]
    },
    {
     "name": "stdout",
     "output_type": "stream",
     "text": [
      "n_train3999_Events483.0(12.08%)_Cens2812.0(70.31%)_(B_RF)4000__(B_1)0   finished\n"
     ]
    }
   ],
   "source": [
    "n = int(4000/0.7)\n",
    "tau = 37\n",
    "\n",
    "params_data = [ \n",
    "                { 'shape_weibull': 1, 'scale_weibull_base': 24_300, 'rate_censoring': 0.003,\n",
    "                        'b_bloodp': -0.405, 'b_diab': -0.4, 'b_age': -0.05, 'b_bmi': -0.01, 'b_kreat': -0.2, \n",
    "                        'n': n, 'seed': seed, 'tau': tau},\n",
    "                 { 'shape_weibull': 1, \n",
    "                        'scale_weibull_base': 10803.76159628643   , \n",
    "                        'rate_censoring':0.003170578469623819    ,\n",
    "                        'b_bloodp': -0.405, 'b_diab': -0.4, 'b_age': -0.05, 'b_bmi': -0.01, 'b_kreat': -0.2, \n",
    "                        'n': n, 'seed': seed, 'tau': tau},\n",
    "                 { 'shape_weibull': 1, \n",
    "                        'scale_weibull_base': 6539.41883092019  , \n",
    "                        'rate_censoring':0.0033904243453215187,\n",
    "                        'b_bloodp': -0.405, 'b_diab': -0.4, 'b_age': -0.05, 'b_bmi': -0.01, 'b_kreat': -0.2, \n",
    "                        'n': n, 'seed': seed, 'tau': tau},\n",
    "                 { 'shape_weibull': 1, \n",
    "                        'scale_weibull_base':  4453.164150258696    , \n",
    "                        'rate_censoring': 0.003624326851330594   ,\n",
    "                        'b_bloodp': -0.405, 'b_diab': -0.4, 'b_age': -0.05, 'b_bmi': -0.01, 'b_kreat': -0.2, \n",
    "                        'n': n, 'seed': seed, 'tau': tau},\n",
    "                 \n",
    "                 { 'shape_weibull': 1, \n",
    "                        'scale_weibull_base':   28000   , \n",
    "                        'rate_censoring': 0.01,\n",
    "                        'b_bloodp': -0.405, 'b_diab': -0.4, 'b_age': -0.05, 'b_bmi': -0.01, 'b_kreat': -0.2, \n",
    "                        'n': n, 'seed': seed, 'tau': tau},\n",
    "                { 'shape_weibull': 1, \n",
    "                        'scale_weibull_base':  12463.811039838654   , \n",
    "                        'rate_censoring': 0.010725364504143705      ,\n",
    "                        'b_bloodp': -0.405, 'b_diab': -0.4, 'b_age': -0.05, 'b_bmi': -0.01, 'b_kreat': -0.2, \n",
    "                        'n': n, 'seed': seed, 'tau': tau},\n",
    "                 { 'shape_weibull': 1, \n",
    "                        'scale_weibull_base':7500     , \n",
    "                        'rate_censoring':  0.011600103696876245    ,\n",
    "                        'b_bloodp': -0.405, 'b_diab': -0.4, 'b_age': -0.05, 'b_bmi': -0.01, 'b_kreat': -0.2, \n",
    "                        'n': n, 'seed': seed, 'tau': tau},\n",
    "                  { 'shape_weibull': 1, \n",
    "                        'scale_weibull_base':  5122.0241237382925    , \n",
    "                        'rate_censoring':  0.012470507897824007      ,\n",
    "                        'b_bloodp': -0.405, 'b_diab': -0.4, 'b_age': -0.05, 'b_bmi': -0.01, 'b_kreat': -0.2, \n",
    "                        'n': n, 'seed': seed, 'tau': tau},\n",
    "                  \n",
    "                  { 'shape_weibull': 1, \n",
    "                        'scale_weibull_base': 34000     , \n",
    "                        'rate_censoring':  0.019578490533008537    ,\n",
    "                        'b_bloodp': -0.405, 'b_diab': -0.4, 'b_age': -0.05, 'b_bmi': -0.01, 'b_kreat': -0.2, \n",
    "                        'n': n, 'seed': seed, 'tau': tau},\n",
    "                  { 'shape_weibull': 1, \n",
    "                        'scale_weibull_base': 15800      , \n",
    "                        'rate_censoring':  0.02052170406791234   ,\n",
    "                        'b_bloodp': -0.405, 'b_diab': -0.4, 'b_age': -0.05, 'b_bmi': -0.01, 'b_kreat': -0.2, \n",
    "                        'n': n, 'seed': seed, 'tau': tau},\n",
    "                  { 'shape_weibull': 1, \n",
    "                        'scale_weibull_base': 9600      , \n",
    "                        'rate_censoring':  0.0218      ,\n",
    "                        'b_bloodp': -0.405, 'b_diab': -0.4, 'b_age': -0.05, 'b_bmi': -0.01, 'b_kreat': -0.2, \n",
    "                        'n': n, 'seed': seed, 'tau': tau},\n",
    "                  { 'shape_weibull': 1, \n",
    "                        'scale_weibull_base': 6600       , \n",
    "                        'rate_censoring':  0.022901136686777616      ,\n",
    "                        'b_bloodp': -0.405, 'b_diab': -0.4, 'b_age': -0.05, 'b_bmi': -0.01, 'b_kreat': -0.2, \n",
    "                        'n': n, 'seed': seed, 'tau': tau},\n",
    "                  \n",
    "                  { 'shape_weibull': 1, \n",
    "                        'scale_weibull_base': 45_000       , \n",
    "                        'rate_censoring':  0.034   ,\n",
    "                        'b_bloodp': -0.405, 'b_diab': -0.4, 'b_age': -0.05, 'b_bmi': -0.01, 'b_kreat': -0.2, \n",
    "                        'n': n, 'seed': seed, 'tau': tau},\n",
    "                  { 'shape_weibull': 1, \n",
    "                        'scale_weibull_base': 21700       , \n",
    "                        'rate_censoring':  0.0352   ,\n",
    "                        'b_bloodp': -0.405, 'b_diab': -0.4, 'b_age': -0.05, 'b_bmi': -0.01, 'b_kreat': -0.2, \n",
    "                        'n': n, 'seed': seed, 'tau': tau},\n",
    "                  { 'shape_weibull': 1, \n",
    "                        'scale_weibull_base': 13_000       , \n",
    "                        'rate_censoring':  0.0375   ,\n",
    "                        'b_bloodp': -0.405, 'b_diab': -0.4, 'b_age': -0.05, 'b_bmi': -0.01, 'b_kreat': -0.2, \n",
    "                        'n': n, 'seed': seed, 'tau': tau},\n",
    "                  { 'shape_weibull': 1, \n",
    "                        'scale_weibull_base': 9115.851814783131        , \n",
    "                        'rate_censoring':  0.04021055606963396   ,\n",
    "                        'b_bloodp': -0.405, 'b_diab': -0.4, 'b_age': -0.05, 'b_bmi': -0.01, 'b_kreat': -0.2, \n",
    "                        'n': n, 'seed': seed, 'tau': tau}\n",
    "                ]\n",
    "\n",
    "for B_RF in [500,1000,2000,4000]: \n",
    "    for  params_data_creation in params_data:\n",
    "        ### Simulation\n",
    "        X_erwartung = pd.DataFrame({'bmi': [25], 'blood_pressure': [0], 'kreatinkinase': [np.exp(5+1/2)], 'diabetes': [0], 'age': [50]})\n",
    "        params_rf = {   'n_estimators':B_RF,                        \n",
    "                        'max_depth':4,\n",
    "                        'min_samples_split':5,\n",
    "                        'max_features': 'log2',\n",
    "                        'random_state':  seed,\n",
    "                        'weighted_bootstrapping': True, }\n",
    "\n",
    "        ######## Start Simulation   ########\n",
    "        with ProcessPoolExecutor() as executor:\n",
    "            \n",
    "            ### Array to store the results\n",
    "            portion_events_after_cut_train = np.zeros(n_sim)\n",
    "            portion_censored_after_cut_train = np.zeros(n_sim)\n",
    "            portion_no_events_after_cut_train = np.zeros(n_sim)\n",
    "            portion_events_after_cut_test = np.zeros(n_sim)\n",
    "            portion_censored_after_cut_test = np.zeros(n_sim)\n",
    "            portion_no_events_after_cut_test = np.zeros(n_sim)\n",
    "            wb_mse_ipcw = np.zeros(n_sim)\n",
    "            wb_cindex_ipcw = np.zeros(n_sim)\n",
    "            wb_y_pred_X_point = np.zeros(n_sim)\n",
    "            rf_mse_ipcw = np.zeros(n_sim)\n",
    "            rf_y_pred_X_point = np.zeros(n_sim)\n",
    "            ijk_var_pred_X_point = np.zeros(n_sim)\n",
    "            ijk_var_biased_X_point = np.zeros(n_sim)\n",
    "            bootstrap_var_pred_X_point = np.zeros(n_sim)\n",
    "            jk_ab_var_pred_X_point = np.zeros(n_sim)\n",
    "            \n",
    "\n",
    "            futures = [\n",
    "                executor.submit(\n",
    "                    simulation,\n",
    "                    seed=seed+i,\n",
    "                    tau=tau, \n",
    "                    data_generation_weibull_parameters=params_data_creation,\n",
    "                    params_rf=params_rf, \n",
    "                    X_pred_point=X_erwartung,\n",
    "                    B_first_level = B_1,\n",
    "                    boot_std_calc = boot_var_calc,\n",
    "                    ijk_std_calc = ijk_std_calc,\n",
    "                    train_models = train_models,\n",
    "                    jk_ab_calc = jk_ab_calc\n",
    "                )\n",
    "                for i in range(n_sim)\n",
    "            ]\n",
    "\n",
    "            for i, future in enumerate(tqdm(futures, desc=\"Simulations\", unit=\"simulation\")):\n",
    "                _portion_events_after_cut_train, _portion_censored_after_cut_train, _portion_no_events_after_cut_train, \\\n",
    "                _portion_events_after_cut_test, _portion_censored_after_cut_test, _portion_no_events_after_cut_test, \\\n",
    "                _wb_mse_ipcw, _wb_cindex_ipcw, _wb_y_pred_X_point, \\\n",
    "                _rf_mse_ipcw, _rf_y_pred_X_point, _ijk_biased_var_pred_X_point,_ijk_correction, _bootstrap_var_pred_X_point, _jk_ab_var_pred_X_point  = future.result()\n",
    "\n",
    "   \n",
    "\n",
    "                #Event-Stats Results\n",
    "                portion_events_after_cut_train[i] = _portion_events_after_cut_train\n",
    "                portion_censored_after_cut_train[i] = _portion_censored_after_cut_train\n",
    "                portion_no_events_after_cut_train[i] = _portion_no_events_after_cut_train\n",
    "                portion_events_after_cut_test[i] = _portion_events_after_cut_test\n",
    "                portion_censored_after_cut_test[i] = _portion_censored_after_cut_test\n",
    "                portion_no_events_after_cut_test[i] = _portion_no_events_after_cut_test\n",
    "                \n",
    "                #Evaluation Results\n",
    "                wb_mse_ipcw[i] = _wb_mse_ipcw\n",
    "                wb_cindex_ipcw[i] = _wb_cindex_ipcw\n",
    "                rf_mse_ipcw[i] = _rf_mse_ipcw\n",
    "\n",
    "                #Prediction Results\n",
    "                wb_y_pred_X_point[i] = _wb_y_pred_X_point[0]\n",
    "                rf_y_pred_X_point[i] = _rf_y_pred_X_point[0]\n",
    "\n",
    "                # Standard Deviation Estimates\n",
    "                ijk_var_pred_X_point[i]  = [_ijk_biased_var_pred_X_point - _ijk_correction][0][0]\n",
    "                ijk_var_biased_X_point[i] = _ijk_biased_var_pred_X_point\n",
    "                jk_ab_var_pred_X_point[i] = _jk_ab_var_pred_X_point\n",
    "                bootstrap_var_pred_X_point[i] = _bootstrap_var_pred_X_point\n",
    "\n",
    "        ########## Save Results ############\n",
    "        results = pd.DataFrame({'wb_mse_ipcw': wb_mse_ipcw,\n",
    "                                'wb_cindex_ipcw': wb_cindex_ipcw,\n",
    "                                'rf_mse_ipcw': rf_mse_ipcw,\n",
    "                                'wb_y_pred_X_point': wb_y_pred_X_point,\n",
    "                                'rf_y_pred_X_point': rf_y_pred_X_point,\n",
    "                                'ijk_var_pred_X_point': ijk_var_pred_X_point,\n",
    "                                'ijk_var_biased_X_point': ijk_var_biased_X_point,\n",
    "                                'jk_ab_var_pred_X_point': jk_ab_var_pred_X_point,\n",
    "                                'bootstrap_var_pred_X_point': bootstrap_var_pred_X_point})\n",
    "        path = os.path.abspath('')\n",
    "        experiment_name = f'n_train{int(n*0.7)}_Events{round(n*0.7*np.mean(portion_events_after_cut_train),0)}({round(np.mean(portion_events_after_cut_train)*100,2)}%)_Cens{round(n*0.7*np.mean(portion_censored_after_cut_train),0)}({round(np.mean(portion_censored_after_cut_train)*100,2)}%)_(B_RF){B_RF}__(B_1){B_1}'\n",
    "        if not os.path.exists(path + '/results/'+experiment_name):\n",
    "            os.makedirs(path + '/results/'+experiment_name)\n",
    "\n",
    "        # Abspeichern der Ergebnise in einer .csv Datei und txt Datei in results ordner \n",
    "        results.to_csv(path + '/results/'+experiment_name+'/'+experiment_name+'.csv', index=False)\n",
    "        if not os.path.exists(path + '/results_txt'):\n",
    "            os.makedirs(path + '/results_txt')\n",
    "        with open(path + '/results/'+experiment_name+'/results.txt', 'w') as f:\n",
    "\n",
    "            f.write(f'n_train= {int(n*0.7)}// Events: {round(n*0.7*np.mean(portion_events_after_cut_train),0)} ({round(np.mean(portion_events_after_cut_train)*100,2)} %) // Censored: {round(n*0.7*np.mean(portion_censored_after_cut_train),0)} ({round(np.mean(portion_censored_after_cut_train)*100,2)} %) // B_RF: {B_RF} // (B_1): {B_1} \\n')\n",
    "\n",
    "            f.write('\\n### Standard Deviation: ###\\n')\n",
    "            a = np.std(wb_y_pred_X_point,ddof=1)\n",
    "            f.write(f'WB EMP-STD:                 {a:.4f}\\n')\n",
    "            b = np.std(rf_y_pred_X_point,ddof=1)\n",
    "            f.write(f'RF EMP-STD:                 {b:.4f}\\n\\n')\n",
    "\n",
    "            non_neg_var_ijk_est = ijk_var_pred_X_point.copy()\n",
    "            non_neg_var_ijk_est[non_neg_var_ijk_est<0] = 0\n",
    "            # erst die wurzel ziehen und dann den mittelwert bilden\n",
    "            a = np.mean(np.sqrt(  non_neg_var_ijk_est    ))\n",
    "            f.write(f'IJK STD (for RF) Mean-est               : {a:.4f}  \\n rel. Abweichung zu emp. std {(a-b)/b*100:.4f} % \\n std. des schätzers {np.std(np.sqrt(  non_neg_var_ijk_est    )):.4f}\\n\\n')\n",
    "            \n",
    "            non_neg_var_ijk_est = ijk_var_biased_X_point.copy()\n",
    "            non_neg_var_ijk_est[non_neg_var_ijk_est<0] = 0\n",
    "            # erst die wurzel ziehen und dann den mittelwert bilden\n",
    "            a = np.mean(np.sqrt(  non_neg_var_ijk_est    ))\n",
    "            f.write(f'IJK STD - biased (for RF) Mean-est               : {a:.4f}  \\n rel. Abweichung zu emp. std {(a-b)/b*100:.4f} % \\n std. des schätzers {np.std(np.sqrt(  non_neg_var_ijk_est    )):.4f}\\n\\n')\n",
    "            \n",
    "            non_neg_var_ijk_est = jk_ab_var_pred_X_point.copy()\n",
    "            non_neg_var_ijk_est[non_neg_var_ijk_est<0] = 0\n",
    "            # erst die wurzel ziehen und dann den mittelwert bilden\n",
    "            a = np.mean(np.sqrt(  non_neg_var_ijk_est    ))\n",
    "            f.write(f'JK-AB(un-weighted) STD (for RF) Mean-est: {a:.4f} \\n rel. Abweichung zu emp. std {(a-b)/b*100:.4f} %  \\n std. des schätzers {np.std(np.sqrt(  non_neg_var_ijk_est    )):.4f} \\n\\n')\n",
    "\n",
    "            a = np.mean(np.sqrt(  bootstrap_var_pred_X_point    ))\n",
    "            f.write(f'Boot STD (for RF) Mean-est              : {a:.4f} \\n rel. Abweichung zu emp. std {(a-b)/b*100:.4f} %  \\n std. des schätzers {np.std(np.sqrt(  a    )):.4f} \\n\\n')\n",
    "\n",
    "\n",
    "\n",
    "\n",
    "            f.write('\\n\\n### mean Data Stats over all simulations: ###\\n')\n",
    "            f.write('Number of simulations: '+str(n_sim)+'\\n')\n",
    "            f.write('cut-off time tau: '+str(tau)+'\\n\\n')\n",
    "            f.write(f'Train ({int(n*0.7)}):\\n')\n",
    "            f.write(f'Events:     {round(np.mean(portion_events_after_cut_train)*100,2)}  %,  n={round(n*0.7*np.mean(portion_events_after_cut_train),0)}\\n')\n",
    "            f.write(f'No Events:  {round(np.mean(portion_no_events_after_cut_train)*100,2)} %,  n={round(n*0.7*np.mean(portion_no_events_after_cut_train),0)}\\n')\n",
    "            f.write(f'Censored:   {round(np.mean(portion_censored_after_cut_train)*100,2)} %,  n={round(n*0.7*np.mean(portion_censored_after_cut_train),0)}\\n')\n",
    "            f.write(f'Test  ({int(n*0.3)}):\\n')\n",
    "            f.write(f'Events:     {round(np.mean(portion_events_after_cut_test)*100,2)}  %,   n={round(n*0.3*np.mean(portion_events_after_cut_test),0)}\\n')\n",
    "            f.write(f'No Events:  {round(np.mean(portion_no_events_after_cut_test)*100,2)} %,   n={round(n*0.3*np.mean(portion_no_events_after_cut_test),0)}\\n')\n",
    "            f.write(f'Censored:   {round(np.mean(portion_censored_after_cut_test)*100,2)}  %,   n={round(n*0.3*np.mean(portion_censored_after_cut_test),0)}\\n')\n",
    "\n",
    "\n",
    "            f.write('\\n\\n### Evaluation: ###\\n')\n",
    "            f.write(f'WB C-Index IPCW: {np.mean(wb_cindex_ipcw):.4f}\\n')\n",
    "            f.write(f'WB MSE IPCW: {np.mean(wb_mse_ipcw):.4f}\\n')\n",
    "            f.write(f'RF MSE IPCW: {np.mean(rf_mse_ipcw):.4f}\\n')\n",
    "            f.write('\\n')\n",
    "\n",
    "            f.write('\\n###Prediction Results:###\\n')\n",
    "            S_t = calculate_true_survival_probability(X_erwartung, params_data_creation, tau)\n",
    "            f.write(f'True Y: {S_t:.4}f\\n')\n",
    "            f.write(f'WB Y_pred: {np.mean(wb_y_pred_X_point):.4f}\\n')\n",
    "            f.write(f'RF Y_pred: {np.mean(rf_y_pred_X_point):.4f}\\n')\n",
    "            f.write('\\n')\n",
    "\n",
    "\n",
    "\n",
    "            f.write('\\n\\n### Simulation Parameters: ###\\n')\n",
    "            f.write('first_level_B for bootstrap variance estimation (B_1): '+str(B_1)+'\\n')\n",
    "\n",
    "            f.write('Data Creation Parameters:\\n')\n",
    "            f.write(str(params_data_creation))\n",
    "            \n",
    "            f.write('\\nRandom Forest Parameter:\\n')\n",
    "            f.write(str(params_rf)+'\\n')\n",
    "            f.write(f'the above seeds ({seed}) are start_seed for the simulation function\\n')\n",
    "\n",
    "        print(experiment_name+'   finished')"
   ]
  }
 ],
 "metadata": {
  "kernelspec": {
   "display_name": "ma-thesis",
   "language": "python",
   "name": "python3"
  },
  "language_info": {
   "codemirror_mode": {
    "name": "ipython",
    "version": 3
   },
   "file_extension": ".py",
   "mimetype": "text/x-python",
   "name": "python",
   "nbconvert_exporter": "python",
   "pygments_lexer": "ipython3",
   "version": "3.11.9"
  }
 },
 "nbformat": 4,
 "nbformat_minor": 2
}
