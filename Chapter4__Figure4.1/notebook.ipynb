{
 "cells": [
  {
   "cell_type": "code",
   "execution_count": 1,
   "metadata": {},
   "outputs": [],
   "source": [
    "from utils import DecisionTreeBaggingClassifier, ipc_weighted_mse, create_new_dataset_with_ipcw_weights, calculate_ijk_variance, calculate_jk_after_bootstrap_variance, calculate_bootstrap_variance\n",
    "from lifelines import KaplanMeierFitter\n",
    "from sklearn.model_selection import KFold, ParameterGrid\n",
    "from sksurv.util import Surv\n",
    "from io import StringIO\n",
    "from joblib import Parallel, delayed\n",
    "import requests, os, json\n",
    "import pandas as pd\n",
    "import numpy as np\n",
    "import gower\n",
    "import matplotlib.pyplot as plt"
   ]
  },
  {
   "cell_type": "markdown",
   "metadata": {},
   "source": [
    "### Datenanalyse"
   ]
  },
  {
   "cell_type": "code",
   "execution_count": 2,
   "metadata": {},
   "outputs": [
    {
     "name": "stdout",
     "output_type": "stream",
     "text": [
      "Data retrieved successfully\n"
     ]
    }
   ],
   "source": [
    "### TXREG Daten ziehen   ins df Dataframe\n",
    " \n",
    "# Define the URL and credentials\n",
    "url = \"https://cloud.h-da.de/public.php/webdav\"\n",
    "username = \"DNQpTLHqBQzbkFL\"\n",
    "\n",
    "with open('secret.json', 'r') as f:\n",
    "    data = json.load(f)\n",
    "    password = data['IDEN_DATA_SHARE_PW']\n",
    "\n",
    "# Make the GET request with basic authentication\n",
    "response = requests.get(url, auth=(username, password), headers={\"X-Requested-With\": \"XMLHttpRequest\"})\n",
    "\n",
    "# Check if the request was successful\n",
    "if response.status_code == 200:\n",
    "    # Read the CSV data\n",
    "    df = pd.read_csv(StringIO(response.text))\n",
    "    print('Data retrieved successfully')\n",
    "else:\n",
    "    print(f\"Failed to retrieve data: {response.status_code}\")"
   ]
  },
  {
   "cell_type": "code",
   "execution_count": 3,
   "metadata": {},
   "outputs": [
    {
     "name": "stdout",
     "output_type": "stream",
     "text": [
      "Spalten mit Datentyp float64  (9 Merkmale):\n",
      "['time', 'donor_age_years', 'donor_height_cm', 'donor_weight_kg', 'donor_creatinin_umol_per_l', 'recipient_age_years', 'recipient_height_cm', 'recipient_weight_kg', 'recipient_dialysis_years']\n",
      "\n",
      "Spalten mit Datentyp int64  (3 Merkmale):\n",
      "['event', 'recipient_pra', 'transplant_cold_ischemia_time_min']\n",
      "\n",
      "Spalten mit Datentyp object  (5 Merkmale):\n",
      "['donor_sex', 'donor_death_reason', 'recipient_sex', 'recipient_diagnosis', 'destination']\n",
      "\n",
      "Spalten mit Datentyp bool  (7 Merkmale):\n",
      "['donor_diabetes', 'donor_hypertension', 'donor_smoking', 'donor_hcv', 'recipient_bloodtransfusion', 'recipient_hcv', 'transplant_abo_compat']\n",
      "\n",
      "Shape: \n",
      "(17016, 24)\n"
     ]
    }
   ],
   "source": [
    "# Gruppiere die Spalten nach ihren Datentypen\n",
    "datatypes = df.dtypes\n",
    "\n",
    "# Iteriere über jeden einzigartigen Datentyp\n",
    "for dtype in datatypes.unique():\n",
    "    print(f\"Spalten mit Datentyp {dtype}  ({len(datatypes[datatypes == dtype].index.tolist())} Merkmale):\")\n",
    "    print(datatypes[datatypes == dtype].index.tolist())\n",
    "    print()  # Leerzeile zur besseren Übersicht\n",
    "\n",
    "print('Shape: ')\n",
    "print(df.shape)\n",
    "n_1 = df.shape[0]"
   ]
  },
  {
   "cell_type": "code",
   "execution_count": 4,
   "metadata": {},
   "outputs": [
    {
     "name": "stdout",
     "output_type": "stream",
     "text": [
      "1230 Zeilen entfernt\n",
      "\n",
      "Shape nach time>0: \n",
      "(15786, 24)\n"
     ]
    }
   ],
   "source": [
    "# Zeilen entfernen mit time <= 0\n",
    "\n",
    "df = df[df['time']>0]\n",
    "print(f'{n_1-df.shape[0]} Zeilen entfernt')\n",
    "print('\\nShape nach time>0: ')\n",
    "print(df.shape)"
   ]
  },
  {
   "cell_type": "code",
   "execution_count": 5,
   "metadata": {},
   "outputs": [],
   "source": [
    "### Kategorische Merkmale mit zu vielen Ausprägungen entfernen/binarisieren\n",
    "\n",
    "# transplant_abo_compat hat 2 ausprägungen, wovon eine nur 3 mal vorkommt --- > daher merkmal entfernen\n",
    "# recipient_diagnosis   248 ausprägungen  -- merkmal rausnehmen, tipp von prof. dr. jahn\n",
    "# donor_death_reason    41  ausprägungen  -- merkmal rausnehmen, tipp von prof. dr. jahn\n",
    "df = df.drop(['recipient_diagnosis', 'donor_death_reason','transplant_abo_compat'], axis=1)\n",
    "\n",
    "# recipient_pra 0 oder 1 setzen und in bool umwandeln, 0 falls 0 sonst 1, tipp von prof. dr. jahn\n",
    "df['recipient_pra'] = df['recipient_pra'].apply(lambda x: x != 0)"
   ]
  },
  {
   "cell_type": "code",
   "execution_count": 6,
   "metadata": {},
   "outputs": [],
   "source": [
    "# Merkmal destination, ausprägungen local dünn besetzt  --> zeilen mit der ausprägung rausnehmen\n",
    "event_counts = df.groupby('destination')['event'].value_counts().unstack(fill_value=0)\n",
    "#print(event_counts)\n",
    "df = df[df['destination'] != 'Local']"
   ]
  },
  {
   "cell_type": "markdown",
   "metadata": {},
   "source": [
    "### Hyperparamter Optimierung"
   ]
  },
  {
   "cell_type": "code",
   "execution_count": 7,
   "metadata": {},
   "outputs": [],
   "source": [
    "# def evaluate_params(params, data, X_columns, tau, seed, K):\n",
    "#     \"\"\"\n",
    "#     Evaluate a set of hyperparameters using cross-validation.\n",
    "#     \"\"\"\n",
    "#     kf = KFold(n_splits=K, shuffle=True, random_state=seed)\n",
    "#     mse_scores = []\n",
    "\n",
    "#     for train_index, val_index in kf.split(data):\n",
    "#         # Split data\n",
    "#         df_train = data.iloc[train_index].reset_index(drop=True)\n",
    "#         df_val = data.iloc[val_index].reset_index(drop=True)\n",
    "\n",
    "#         # Fit Kaplan-Meier estimator on training data\n",
    "#         kmf = KaplanMeierFitter()\n",
    "#         kmf.fit(\n",
    "#             durations=df_train[\"time\"].astype(float),\n",
    "#             event_observed=1 - df_train[\"event\"].astype(bool),\n",
    "#         )\n",
    "\n",
    "#         # Compute IPCW weights for training and validation data\n",
    "#         df_train,_,_ = create_new_dataset_with_ipcw_weights(df_train, t=tau, kmf=kmf)\n",
    "#         df_val,_,_ = create_new_dataset_with_ipcw_weights(df_val, t=tau, kmf=kmf)\n",
    "\n",
    "#         # Create dummy variables\n",
    "#         df_train_dummy = pd.get_dummies(df_train, drop_first=True)\n",
    "#         df_val_dummy = pd.get_dummies(df_val, drop_first=True)\n",
    "\n",
    "#         # Ensure both datasets have the same columns\n",
    "#         df_val_dummy = df_val_dummy.reindex(columns=df_train_dummy.columns, fill_value=0)\n",
    "\n",
    "#         # Prepare features and target\n",
    "#         X_train = df_train_dummy.drop([\"time\", \"event\", \"weights_ipcw\", \"survived\"], axis=1).values\n",
    "#         y_train = df_train_dummy[\"survived\"].values\n",
    "#         sample_weights_train = df_train_dummy[\"weights_ipcw\"].values\n",
    "\n",
    "#         X_val = df_val_dummy.drop([\"time\", \"event\", \"weights_ipcw\", \"survived\"], axis=1).values\n",
    "#         y_val = df_val_dummy[\"survived\"].values\n",
    "#         sample_weights_val = df_val_dummy[\"weights_ipcw\"].values\n",
    "\n",
    "#         # Train model\n",
    "#         clf = DecisionTreeBaggingClassifier(params)\n",
    "#         clf.fit(X_train, y_train, sample_weights=sample_weights_train)\n",
    "\n",
    "#         # Predict probabilities\n",
    "#         _, pred = clf.predict_proba(X_val)\n",
    "\n",
    "#         # Compute IPCW MSE on validation data\n",
    "#         rf_mse_ipcw = ipc_weighted_mse(\n",
    "#             y_true=y_val,\n",
    "#             y_pred=pred,\n",
    "#             sample_weight=sample_weights_val,\n",
    "#         )\n",
    "\n",
    "#         mse_scores.append(rf_mse_ipcw)\n",
    "\n",
    "#     mean_mse = np.mean(mse_scores)\n",
    "#     print(f\"Params: {params}, Mean IPCW MSE: {mean_mse}\")\n",
    "\n",
    "#     return mean_mse, params\n",
    "\n",
    "# # Hyperparameter grid for tuning\n",
    "# param_grid = {\n",
    "#     'n_estimators': [8000],\n",
    "#     'max_depth': [5,6, 7,8,9,10],\n",
    "#     'min_samples_split': [10, 20, 30, 40, 50],\n",
    "#     'max_features': ['sqrt','log2'],\n",
    "#     'random_state': [42],\n",
    "#     'weighted_bootstrapping': [True],\n",
    "# }\n",
    "\n",
    "# # Prepare data\n",
    "# X_columns = df.columns.tolist()\n",
    "# X_columns.remove('time')\n",
    "# X_columns.remove('event')\n",
    "# tau = 3 * 365\n",
    "# seed = 42\n",
    "# K = 10  # Number of folds\n",
    "# tau = 3 * 365\n",
    "# seed = 42\n",
    "\n",
    "# data = df.copy()  # Assuming df is your original DataFrame\n",
    "\n",
    "# # Create parameter combinations\n",
    "# grid = list(ParameterGrid(param_grid))\n",
    "\n",
    "# # Parallel computation\n",
    "# results = Parallel(n_jobs=-1, verbose=10)(\n",
    "#     delayed(evaluate_params)(params, data, X_columns, tau, seed, K)\n",
    "#     for params in grid\n",
    "# )\n",
    "\n",
    "# # Find best parameters\n",
    "# best_score = float('inf')\n",
    "# best_params = None\n",
    "\n",
    "# for mean_mse, params in results:\n",
    "#     if mean_mse < best_score:\n",
    "#         best_score = mean_mse\n",
    "#         best_params = params\n",
    "\n",
    "# print(f\"Best Params: {best_params}, Best Mean IPCW MSE: {best_score}\")"
   ]
  },
  {
   "cell_type": "markdown",
   "metadata": {},
   "source": [
    "### Patienten finden für Predictions"
   ]
  },
  {
   "cell_type": "code",
   "execution_count": 8,
   "metadata": {},
   "outputs": [],
   "source": [
    "### Model mit den besten Hyperparameter fitten\n",
    "params_rf = {   'n_estimators':8000,                        \n",
    "                'max_depth':10,\n",
    "                'min_samples_split':40,\n",
    "                'max_features': 'sqrt',\n",
    "                'random_state':  42,\n",
    "                'weighted_bootstrapping': True, }\n",
    "tau = 3*365"
   ]
  },
  {
   "cell_type": "code",
   "execution_count": 9,
   "metadata": {},
   "outputs": [
    {
     "name": "stdout",
     "output_type": "stream",
     "text": [
      "IPCW MSE: 0.1207\n",
      "Mittlere Überlebenswarscheinlichkeit: 80.31 %\n"
     ]
    }
   ],
   "source": [
    "# Fit Kaplan-Meier estimator on training data\n",
    "kmf = KaplanMeierFitter()\n",
    "kmf.fit(\n",
    "    durations=df[\"time\"].astype(float),\n",
    "    event_observed=1 - df[\"event\"].astype(bool),\n",
    ")\n",
    "\n",
    "# Compute IPCW weights for  data\n",
    "df_train,_,_ = create_new_dataset_with_ipcw_weights(df, t=tau, kmf=kmf)\n",
    "\n",
    "# Create dummy variables\n",
    "df_train_dummy = pd.get_dummies(df_train, drop_first=True)\n",
    "\n",
    "# Prepare features and target\n",
    "X_train = df_train_dummy.drop([\"time\", \"event\", \"weights_ipcw\", \"survived\"], axis=1).values\n",
    "y_train = df_train_dummy[\"survived\"].values\n",
    "sample_weights_train = df_train_dummy[\"weights_ipcw\"].values\n",
    "\n",
    "# Train model\n",
    "clf = DecisionTreeBaggingClassifier(params_rf)\n",
    "clf.fit(X_train, y_train, sample_weights=sample_weights_train)\n",
    "\n",
    "# Predict probabilities\n",
    "_, pred = clf.predict_proba(X_train)\n",
    "\n",
    "# Compute IPCW MSE on validation data\n",
    "rf_mse_ipcw = ipc_weighted_mse(\n",
    "    y_true=y_train,\n",
    "    y_pred=pred,\n",
    "    sample_weight=sample_weights_train,\n",
    ")\n",
    "\n",
    "print(f\"IPCW MSE: {round(rf_mse_ipcw,4)}\")\n",
    "print(f'Mittlere Überlebenswarscheinlichkeit: {round(pred.mean()*100,2)} %')"
   ]
  },
  {
   "cell_type": "code",
   "execution_count": 10,
   "metadata": {},
   "outputs": [],
   "source": [
    "# finde Patienten mit niedrigster Überlebenswahrscheinlichkeit\n",
    "idx_pred_min = pred.argmin()\n",
    "low_patient = df.iloc[[idx_pred_min]]\n",
    "low_patient_dummy_X = X_train[idx_pred_min].reshape(1,-1)\n",
    "del_idx_1 = df.iloc[[idx_pred_min]].index[0]"
   ]
  },
  {
   "cell_type": "code",
   "execution_count": 11,
   "metadata": {},
   "outputs": [],
   "source": [
    "# finde Patienten mit größter Überlebenswahrscheinlichkeit\n",
    "idx_pred_max = pred.argmax()\n",
    "high_patient = df.iloc[[idx_pred_max]]\n",
    "high_patient_dummy_X = X_train[idx_pred_max].reshape(1,-1)\n",
    "del_idx_2 = df.iloc[[idx_pred_max]].index[0]"
   ]
  },
  {
   "cell_type": "code",
   "execution_count": 12,
   "metadata": {},
   "outputs": [],
   "source": [
    "### Find the observation closest to the average patient ###\n",
    "\n",
    "# Exclude target variables if they are not features\n",
    "target_cols = ['time', 'event']\n",
    "feature_cols = df.columns.difference(target_cols)\n",
    "\n",
    "# Step 1: Calculate mean for numerical columns (excluding target variables)\n",
    "numeric_cols = df[feature_cols].select_dtypes(include=['float64', 'int64']).columns\n",
    "mean_values = df[numeric_cols].mean()\n",
    "\n",
    "# Step 2: Calculate mode for categorical columns\n",
    "categorical_cols = df[feature_cols].select_dtypes(include=['object']).columns\n",
    "mode_values = df[categorical_cols].mode().iloc[0]\n",
    "\n",
    "# Step 3: Calculate mode for boolean columns\n",
    "bool_cols = df[feature_cols].select_dtypes(include=['bool']).columns\n",
    "bool_mode_values = df[bool_cols].mode().iloc[0]\n",
    "\n",
    "# Step 4: Combine all results into one Series\n",
    "average_patient = pd.concat([mean_values, bool_mode_values, mode_values])\n",
    "\n",
    "# Step 5: Reindex average_patient to match feature columns\n",
    "average_patient = average_patient[feature_cols]\n",
    "\n",
    "# Step 6: Create average_patient_df with same columns as df (feature columns)\n",
    "average_patient_df = pd.DataFrame([average_patient], columns=feature_cols)\n",
    "\n",
    "# Step 7: Ensure data types match between df and average_patient_df\n",
    "df_features = df[feature_cols]\n",
    "average_patient_df = average_patient_df.astype(df_features.dtypes)\n",
    "\n",
    "# Step 8: Compute Gower distances\n",
    "# Note: Use only feature columns for distance calculation\n",
    "distances = gower.gower_matrix(df_features, average_patient_df)\n",
    "\n",
    "# Extract distances to the average patient\n",
    "distances_to_average = distances[:, 0]\n",
    "\n",
    "# Find the index with the minimum distance\n",
    "idx_mean_patient = distances_to_average.argmin()\n",
    "\n",
    "# Mean Patient\n",
    "mean_patient = df.iloc[[idx_mean_patient]]\n",
    "mean_patient_dummy_X = X_train[idx_mean_patient].reshape(1,-1)\n",
    "del_idx_3 = df.iloc[[idx_mean_patient]].index[0]"
   ]
  },
  {
   "cell_type": "code",
   "execution_count": 13,
   "metadata": {},
   "outputs": [],
   "source": [
    "# Diese 3 Patienten entfernen aus dem Datensatz\n",
    "df = df.drop([del_idx_1,del_idx_2,del_idx_3])"
   ]
  },
  {
   "cell_type": "markdown",
   "metadata": {},
   "source": [
    "### Finales Modell trainieren"
   ]
  },
  {
   "cell_type": "code",
   "execution_count": 14,
   "metadata": {},
   "outputs": [
    {
     "name": "stdout",
     "output_type": "stream",
     "text": [
      "Spalten mit Datentyp float64  (9 Merkmale):\n",
      "['time', 'donor_age_years', 'donor_height_cm', 'donor_weight_kg', 'donor_creatinin_umol_per_l', 'recipient_age_years', 'recipient_height_cm', 'recipient_weight_kg', 'recipient_dialysis_years']\n",
      "\n",
      "Spalten mit Datentyp int64  (2 Merkmale):\n",
      "['event', 'transplant_cold_ischemia_time_min']\n",
      "\n",
      "Spalten mit Datentyp object  (3 Merkmale):\n",
      "['donor_sex', 'recipient_sex', 'destination']\n",
      "\n",
      "Spalten mit Datentyp bool  (7 Merkmale):\n",
      "['donor_diabetes', 'donor_hypertension', 'donor_smoking', 'donor_hcv', 'recipient_bloodtransfusion', 'recipient_hcv', 'recipient_pra']\n",
      "\n",
      "Train Shape: \n",
      "(15769, 21)\n",
      "\n",
      "Anteil der Zensierten beobachtungen nach dem cut bei tau: 19.63%\n",
      "Anteil der Events nach dem cut bei tau: 18.69%\n"
     ]
    }
   ],
   "source": [
    "# Fit Kaplan-Meier estimator on training data\n",
    "kmf = KaplanMeierFitter()\n",
    "kmf.fit(\n",
    "    durations=df[\"time\"].astype(float),\n",
    "    event_observed=1 - df[\"event\"].astype(bool),\n",
    ")\n",
    "\n",
    "# Compute IPCW weights for  data\n",
    "df_train,n_events_after_cut, portion_censored_after_cut = create_new_dataset_with_ipcw_weights(df, t=tau, kmf=kmf)\n",
    "\n",
    "# Create dummy variables\n",
    "df_train_dummy = pd.get_dummies(df_train, drop_first=True)\n",
    "\n",
    "# Prepare features and target\n",
    "X_train = df_train_dummy.drop([\"time\", \"event\", \"weights_ipcw\", \"survived\"], axis=1).values\n",
    "y_train = df_train_dummy[\"survived\"].values\n",
    "sample_weights_train = df_train_dummy[\"weights_ipcw\"].values\n",
    "\n",
    "# Train model\n",
    "clf = DecisionTreeBaggingClassifier(params_rf)\n",
    "clf.fit(X_train, y_train, sample_weights=sample_weights_train)\n",
    "\n",
    "# Predict probabilities\n",
    "_, pred = clf.predict_proba(X_train)\n",
    "\n",
    "# Compute IPCW MSE on validation data\n",
    "rf_mse_ipcw = ipc_weighted_mse(\n",
    "    y_true=y_train,\n",
    "    y_pred=pred,\n",
    "    sample_weight=sample_weights_train,\n",
    ")\n",
    "\n",
    "# Merkmale zum trainieren des Classifiers festlegen\n",
    "X_columns = df.columns.tolist()\n",
    "X_columns.remove('time')\n",
    "X_columns.remove('event')\n",
    "\n",
    "# Gruppiere die Spalten nach ihren Datentypen\n",
    "datatypes = df.dtypes\n",
    "\n",
    "# Iteriere über jeden einzigartigen Datentyp\n",
    "for dtype in datatypes.unique():\n",
    "    print(f\"Spalten mit Datentyp {dtype}  ({len(datatypes[datatypes == dtype].index.tolist())} Merkmale):\")\n",
    "    print(datatypes[datatypes == dtype].index.tolist())\n",
    "    print()  # Leerzeile zur besseren Übersicht\n",
    "\n",
    "print('Train Shape: ')\n",
    "print(df.shape)\n",
    "\n",
    "print(f'\\nAnteil der Zensierten beobachtungen nach dem cut bei tau: {round(portion_censored_after_cut*100,2)}%')\n",
    "print(f'Anteil der Events nach dem cut bei tau: {round(n_events_after_cut/X_train.shape[0]*100,2)}%')\n"
   ]
  },
  {
   "cell_type": "markdown",
   "metadata": {},
   "source": [
    "### Prediction für Patienten"
   ]
  },
  {
   "cell_type": "code",
   "execution_count": 44,
   "metadata": {},
   "outputs": [
    {
     "name": "stdout",
     "output_type": "stream",
     "text": [
      "Überlebenswarscheinlichkeit für Durchschnittspatienten: 89.44 %\n",
      "Überlebenswarscheinlichkeit für geringe Überlebenswarscheinlichkeit : 40.83 %\n",
      "Überlebenswarscheinlichkeit für hohe Überlebenswarscheinlichkeit: 95.03 %\n"
     ]
    }
   ],
   "source": [
    "_, pred_mean = clf.predict_proba(mean_patient_dummy_X)\n",
    "_, pred_low = clf.predict_proba(low_patient_dummy_X)\n",
    "_, pred_high = clf.predict_proba(high_patient_dummy_X)\n",
    "\n",
    "print(f'Überlebenswarscheinlichkeit für Durchschnittspatienten: {round(pred_mean.mean()*100,2)} %')\n",
    "print(f'Überlebenswarscheinlichkeit für geringe Überlebenswarscheinlichkeit : {round(pred_low.mean()*100,2)} %')\n",
    "print(f'Überlebenswarscheinlichkeit für hohe Überlebenswarscheinlichkeit: {round(pred_high.mean()*100,2)} %')"
   ]
  },
  {
   "cell_type": "markdown",
   "metadata": {},
   "source": [
    "### Varianz schätzung der Predictions"
   ]
  },
  {
   "cell_type": "code",
   "execution_count": 61,
   "metadata": {},
   "outputs": [
    {
     "name": "stdout",
     "output_type": "stream",
     "text": [
      "STD- IJK-U  für Patient mit low Überlebenswarscheinlichkeit: [0.0362]\n",
      "STD- IJK-U für Patient mit mean Überlebenswarscheinlichkeit: [0.0185]\n",
      "STD- IJK-U für Patient mit high Überlebenswarscheinlichkeit: [0.002]\n"
     ]
    }
   ],
   "source": [
    "## IJK\n",
    "biased_var_estimate, bias_correction = calculate_ijk_variance(clf=clf, X_pred_point=low_patient_dummy_X, df_train= df_train_dummy)\n",
    "ijk_var_u_low = (biased_var_estimate - bias_correction)\n",
    "ijk_var_low = biased_var_estimate\n",
    "print(f'STD- IJK-U  für Patient mit low Überlebenswarscheinlichkeit: {np.round(ijk_var_u_low**0.5,4)}')\n",
    "\n",
    "biased_var_estimate, bias_correction = calculate_ijk_variance(clf=clf, X_pred_point=mean_patient_dummy_X, df_train= df_train_dummy)\n",
    "ijk_var_u_mean = (biased_var_estimate - bias_correction)\n",
    "ijk_var_mean   = biased_var_estimate\n",
    "print(f'STD- IJK-U für Patient mit mean Überlebenswarscheinlichkeit: {np.round(ijk_var_u_mean**0.5,4)}')\n",
    "\n",
    "biased_var_estimate, bias_correction = calculate_ijk_variance(clf=clf, X_pred_point=high_patient_dummy_X, df_train= df_train_dummy)\n",
    "ijk_var_u_high = (biased_var_estimate - bias_correction)\n",
    "ijk_var_high = biased_var_estimate\n",
    "print(f'STD- IJK-U für Patient mit high Überlebenswarscheinlichkeit: {np.round(ijk_var_u_high**0.5,4)}')"
   ]
  },
  {
   "cell_type": "code",
   "execution_count": 47,
   "metadata": {},
   "outputs": [
    {
     "name": "stdout",
     "output_type": "stream",
     "text": [
      "STD- JK  für Patient mit low Überlebenswarscheinlichkeit: 0.2054\n",
      "STD- JK für Patient mit mean Überlebenswarscheinlichkeit: 0.0621\n",
      "STD- JK für Patient mit high Überlebenswarscheinlichkeit: 0.0353\n"
     ]
    }
   ],
   "source": [
    "## JK-AB\n",
    "biased_var_estimate= calculate_jk_after_bootstrap_variance(clf=clf, X_pred_point=low_patient_dummy_X, df_train= df_train_dummy, params_rf=params_rf)\n",
    "jk_var_u_low = biased_var_estimate \n",
    "print(f'STD- JK  für Patient mit low Überlebenswarscheinlichkeit: {np.round(jk_var_u_low**0.5,4)}')\n",
    "\n",
    "biased_var_estimate = calculate_jk_after_bootstrap_variance(clf=clf, X_pred_point=mean_patient_dummy_X, df_train= df_train_dummy, params_rf=params_rf)\n",
    "jk_var_u_mean = biased_var_estimate \n",
    "print(f'STD- JK für Patient mit mean Überlebenswarscheinlichkeit: {np.round(jk_var_u_mean**0.5,4)}')\n",
    "\n",
    "biased_var_estimate= calculate_jk_after_bootstrap_variance(clf=clf, X_pred_point=high_patient_dummy_X, df_train= df_train_dummy, params_rf=params_rf)\n",
    "jk_var_u_high = biased_var_estimate\n",
    "print(f'STD- JK für Patient mit high Überlebenswarscheinlichkeit: {np.round(jk_var_u_high**0.5,4)}')"
   ]
  },
  {
   "cell_type": "code",
   "execution_count": 18,
   "metadata": {},
   "outputs": [
    {
     "name": "stdout",
     "output_type": "stream",
     "text": [
      "STD- Boot  für Patient mit low Überlebenswarscheinlichkeit: 0.0393\n",
      "STD- Boot  für Patient mit mean Überlebenswarscheinlichkeit: 0.0121\n",
      "STD- Boot  für Patient mit high Überlebenswarscheinlichkeit: 0.0051\n"
     ]
    }
   ],
   "source": [
    "boot_var_low, boot_var_mean, boot_var_high = calculate_bootstrap_variance(df2=df, seed=42, B_first_level= 200  ,\n",
    "                                                                            tau =tau, params_rf=params_rf, x_high_patient=high_patient,\n",
    "                                                                            x_low_patient=low_patient, x_mean_patient=mean_patient)\n",
    "\n",
    "print(f'STD- Boot  für Patient mit low Überlebenswarscheinlichkeit: {np.round(boot_var_low**0.5,4)}')\n",
    "print(f'STD- Boot  für Patient mit mean Überlebenswarscheinlichkeit: {np.round(boot_var_mean**0.5,4)}')\n",
    "print(f'STD- Boot  für Patient mit high Überlebenswarscheinlichkeit: {np.round(boot_var_high**0.5,4)}')"
   ]
  },
  {
   "cell_type": "code",
   "execution_count": 19,
   "metadata": {},
   "outputs": [
    {
     "name": "stdout",
     "output_type": "stream",
     "text": [
      "STD- Boot  für Patient mit low Überlebenswarscheinlichkeit: 0.0393\n",
      "STD- Boot  für Patient mit mean Überlebenswarscheinlichkeit: 0.0121\n",
      "STD- Boot  für Patient mit high Überlebenswarscheinlichkeit: 0.0051\n"
     ]
    }
   ],
   "source": [
    "print(f'STD- Boot  für Patient mit low Überlebenswarscheinlichkeit: {np.round(boot_var_low**0.5,4)}')\n",
    "print(f'STD- Boot  für Patient mit mean Überlebenswarscheinlichkeit: {np.round(boot_var_mean**0.5,4)}')\n",
    "print(f'STD- Boot  für Patient mit high Überlebenswarscheinlichkeit: {np.round(boot_var_high**0.5,4)}')"
   ]
  },
  {
   "cell_type": "markdown",
   "metadata": {},
   "source": [
    "### Plotten"
   ]
  },
  {
   "cell_type": "code",
   "execution_count": 14,
   "metadata": {},
   "outputs": [
    {
     "data": {
      "image/png": "[encoded data removed]",
      "text/plain": [
       "<Figure size 1500x500 with 3 Axes>"
      ]
     },
     "metadata": {},
     "output_type": "display_data"
    }
   ],
   "source": [
    "import matplotlib.pyplot as plt\n",
    "import numpy as np\n",
    "from matplotlib.lines import Line2D\n",
    "\n",
    "# Deine bestehenden Variablen und Berechnungen\n",
    "boot_var_low = 0.039**2\n",
    "boot_var_mean = 0.0121**2\n",
    "boot_var_high = 0.0051**2\n",
    "\n",
    "jk_var_u_low = 0.2054**2\n",
    "jk_var_u_mean = 0.0621**2\n",
    "jk_var_u_high = 0.0353**2\n",
    "\n",
    "ijk_var_u_low =0.0362**2\n",
    "ijk_var_u_mean =0.0185**2\n",
    "ijk_var_u_high =0.002**2\n",
    "\n",
    "ijk_var_low =   0.3794**2\n",
    "ijk_var_mean =0.1156**2\n",
    "ijk_var_high =0.0655**2\n",
    "\n",
    "pred_low =40.83/100\n",
    "pred_mean = 89.44/100\n",
    "pred_high =95.03/100\n",
    "\n",
    "fig, axes = plt.subplots(nrows=1, ncols=3, figsize=(15, 5), sharex=False, sharey=False)\n",
    "\n",
    "RF_Y_pred_low = round(pred_low, 2)\n",
    "RF_Y_pred_mean = round(pred_mean, 2)\n",
    "RF_Y_pred_high = round(pred_high, 2)\n",
    "\n",
    "# Funktion zum Plotten, um Redundanz zu vermeiden\n",
    "def plot_patient(ax, x_positions, y_pred_list, errors, title, u, a):\n",
    "    colors = ['black', 'cyan', 'gray', 'violet']\n",
    "    for x, y, err, color in zip(x_positions, y_pred_list, errors, colors):\n",
    "        ax.errorbar(x, y, yerr=err, fmt='o', color=color, ecolor='black', capsize=5)\n",
    "    ax.set_title(title)\n",
    "    ax.set_ylim(u, a)\n",
    "    # Zeichne eine horizontale Linie für den Mittelwert\n",
    "    ax.axhline(y=y_pred_list[0], color='red', linestyle='--', linewidth=2)\n",
    "    ax.grid(True, linestyle='--', alpha=1.)\n",
    "    ax.set_xticks([])  # Entferne die x-Tick-Labels\n",
    "\n",
    "# 1. Plot: Patient mit niedriger Überlebenswahrscheinlichkeit\n",
    "error_ijk_low = 1.96 * np.sqrt(ijk_var_u_low)\n",
    "error_jkab_low = 1.96 * np.sqrt(jk_var_u_low)\n",
    "error_ijk_biased_low = 1.96 * np.sqrt(ijk_var_low)\n",
    "error_boot_low = 1.96 * np.sqrt(boot_var_low)\n",
    "errors_low = [error_ijk_low, error_boot_low, error_ijk_biased_low, error_jkab_low]\n",
    "x_positions = [0.0, 0.25, 0.75, 1.0]\n",
    "y_pred_low_list = [RF_Y_pred_low] * len(x_positions)  # Liste mit wiederholten y-Werten\n",
    "plot_patient(axes[0], x_positions, y_pred_low_list, errors_low, 'Patient with low Survival Probability', 0.3, 1)\n",
    "\n",
    "# 2. Plot: Durchschnittlicher Patient\n",
    "error_ijk_mean = 1.96 * np.sqrt(ijk_var_u_mean)\n",
    "error_jkab_mean = 1.96 * np.sqrt(jk_var_u_mean)\n",
    "error_ijk_biased_mean = 1.96 * np.sqrt(ijk_var_mean)\n",
    "error_boot_mean = 1.96 * np.sqrt(boot_var_mean)\n",
    "errors_mean = [error_ijk_mean, error_boot_mean, error_ijk_biased_mean, error_jkab_mean]\n",
    "y_pred_mean_list = [RF_Y_pred_mean] * len(x_positions)\n",
    "plot_patient(axes[1], x_positions, y_pred_mean_list, errors_mean, 'Average Patient', 0.3, 1)\n",
    "\n",
    "# 3. Plot: Patient mit hoher Überlebenswahrscheinlichkeit\n",
    "error_ijk_high = 1.96 * np.sqrt(ijk_var_u_high)\n",
    "error_jkab_high = 1.96 * np.sqrt(jk_var_u_high)\n",
    "error_ijk_biased_high = 1.96 * np.sqrt(ijk_var_high)\n",
    "error_boot_high = 1.96 * np.sqrt(boot_var_high)\n",
    "errors_high = [error_ijk_high, error_boot_high, error_ijk_biased_high, error_jkab_high]\n",
    "y_pred_high_list = [RF_Y_pred_high] * len(x_positions)\n",
    "plot_patient(axes[2], x_positions, y_pred_high_list, errors_high, 'Patient with high Survival Probability', 0.3, 1)\n",
    "\n",
    "# Gemeinsame Y-Achsenbeschriftung\n",
    "fig.supylabel('Survival Probability', fontsize=11)\n",
    "\n",
    "# Erstelle benutzerdefinierte Legenden-Handles\n",
    "legend_elements = [\n",
    "    Line2D([0], [0], marker='o', color='black', label='IJK-AWB-U', markersize=8, linestyle='None', markerfacecolor='black'),\n",
    "    Line2D([0], [0], marker='o', color='cyan', label='Boot', markersize=8, linestyle='None', markerfacecolor='cyan'),\n",
    "    Line2D([0], [0], marker='o', color='gray', label='IJK-AWB', markersize=8, linestyle='None', markerfacecolor='gray'),\n",
    "    Line2D([0], [0], marker='o', color='violet', label='JK-AB', markersize=8, linestyle='None', markerfacecolor='violet'),\n",
    "    Line2D([0], [0], color='red', linestyle='--', label=\"DTBC's Prediction\")\n",
    "]\n",
    "\n",
    "# Füge die Legende zur gesamten Figur hinzu, platziere sie unten und füge einen Rahmen hinzu\n",
    "fig.legend(handles=legend_elements, loc='lower center', ncol=5, frameon=True, bbox_to_anchor=(0.5, -0.1))\n",
    "\n",
    "# Passe das Layout an, damit die Legende nicht abgeschnitten wird\n",
    "plt.tight_layout()  # Erhöhe den unteren Rand, um Platz für die Legende zu schaffen\n",
    "plt.show()\n"
   ]
  }
 ],
 "metadata": {
  "kernelspec": {
   "display_name": "Master-Thesis",
   "language": "python",
   "name": "python3"
  },
  "language_info": {
   "codemirror_mode": {
    "name": "ipython",
    "version": 3
   },
   "file_extension": ".py",
   "mimetype": "text/x-python",
   "name": "python",
   "nbconvert_exporter": "python",
   "pygments_lexer": "ipython3",
   "version": "3.11.9"
  }
 },
 "nbformat": 4,
 "nbformat_minor": 2
}
