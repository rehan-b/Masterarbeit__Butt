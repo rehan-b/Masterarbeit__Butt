{
 "cells": [
  {
   "cell_type": "code",
   "execution_count": 1,
   "metadata": {},
   "outputs": [
    {
     "name": "stdout",
     "output_type": "stream",
     "text": [
      "theta_i =  {48.0, 43.0, 45.0}\n",
      "Jackknife estimate of variance:  44.64\n",
      "Bootstrap estimate of variance:  71.23\n"
     ]
    }
   ],
   "source": [
    "import numpy as np\n",
    "np.random.seed(42)\n",
    "\n",
    "def jackknife_median(x):\n",
    "    n = len(x)\n",
    "    theta_i = np.zeros(n)\n",
    "    for i in range(n):\n",
    "        theta_i[i] = np.median(np.delete(x, i))\n",
    "    return ((n-1)/n) * np.sum((theta_i-np.mean(theta_i))**2), theta_i\n",
    "    \n",
    "def bootstrap_median_std(x, B=100):\n",
    "    n = len(x)\n",
    "    bootstrap_medians = np.zeros(B)\n",
    "    for i in range(B):\n",
    "        bootstrap_sample = np.random.choice(x, size=n, replace=True)\n",
    "        bootstrap_medians[i] = np.median(bootstrap_sample)\n",
    "    return np.var(bootstrap_medians)\n",
    "\n",
    "x = [10,27,31,40,46,50,52,104,146]\n",
    "jk_var, theta_i = jackknife_median(x)\n",
    "boot_var = bootstrap_median_std(x)\n",
    "\n",
    "print('theta_i = ',set(theta_i))\n",
    "print('Jackknife estimate of variance: ',round(jk_var,2))\n",
    "print('Bootstrap estimate of variance: ',round(boot_var, 2))"
   ]
  }
 ],
 "metadata": {
  "kernelspec": {
   "display_name": "Master-Thesis",
   "language": "python",
   "name": "python3"
  },
  "language_info": {
   "codemirror_mode": {
    "name": "ipython",
    "version": 3
   },
   "file_extension": ".py",
   "mimetype": "text/x-python",
   "name": "python",
   "nbconvert_exporter": "python",
   "pygments_lexer": "ipython3",
   "version": "3.11.9"
  }
 },
 "nbformat": 4,
 "nbformat_minor": 2
}
