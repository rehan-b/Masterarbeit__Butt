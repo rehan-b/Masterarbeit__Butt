{
 "cells": [
  {
   "cell_type": "markdown",
   "metadata": {},
   "source": [
    "### Tests für inf_JK_bagged_variance Funktion"
   ]
  },
  {
   "cell_type": "code",
   "execution_count": 1,
   "metadata": {},
   "outputs": [
    {
     "name": "stderr",
     "output_type": "stream",
     "text": [
      "test_with_equal_weights (__main__.TestInfJKBaggedVariance.test_with_equal_weights) ... ok\n",
      "test_with_zero_weights (__main__.TestInfJKBaggedVariance.test_with_zero_weights) ... ok\n",
      "\n",
      "----------------------------------------------------------------------\n",
      "Ran 2 tests in 0.009s\n",
      "\n",
      "OK\n"
     ]
    }
   ],
   "source": [
    "import unittest\n",
    "import numpy as np\n",
    "from utils import inf_JK_bagged_variance\n",
    "\n",
    "\n",
    "class TestInfJKBaggedVariance(unittest.TestCase):\n",
    "    def setUp(self):\n",
    "        self.N_bi = np.array([[2, 0, 1], [0, 0, 3], [1, 0, 2]])\n",
    "        self.T_N_b = np.array([[6], [10], [5]])\n",
    "\n",
    "    def test_with_equal_weights(self):\n",
    "        weights = np.array([1 / 3, 1 / 3, 1 / 3])\n",
    "        res1, res2 = inf_JK_bagged_variance(self.N_bi, self.T_N_b)\n",
    "        expected_result = np.array([32 / 9, 28 / 9])\n",
    "        np.testing.assert_array_equal(\n",
    "            np.round([res1, res2], 14).flatten(), np.round(expected_result, 14)\n",
    "        )\n",
    "\n",
    "    def test_with_zero_weights(self):\n",
    "        weights = np.array([1 / 2, 0, 1 / 2])\n",
    "        res1, res2 = inf_JK_bagged_variance(self.N_bi, self.T_N_b, weights, 2.0)\n",
    "        expected_result = np.array([32 / 9, 7 / 3])\n",
    "        np.testing.assert_array_equal(\n",
    "            np.round([res1, res2], 14).flatten(), np.round(expected_result, 14)\n",
    "        )\n",
    "\n",
    "\n",
    "def run_tests():\n",
    "    loader = unittest.TestLoader()\n",
    "    suite = loader.loadTestsFromTestCase(TestInfJKBaggedVariance)\n",
    "    runner = unittest.TextTestRunner(verbosity=2)\n",
    "    runner.run(suite)\n",
    "\n",
    "\n",
    "run_tests()"
   ]
  }
 ],
 "metadata": {
  "kernelspec": {
   "display_name": "Master-Thesis",
   "language": "python",
   "name": "python3"
  },
  "language_info": {
   "codemirror_mode": {
    "name": "ipython",
    "version": 3
   },
   "file_extension": ".py",
   "mimetype": "text/x-python",
   "name": "python",
   "nbconvert_exporter": "python",
   "pygments_lexer": "ipython3",
   "version": "3.11.9"
  }
 },
 "nbformat": 4,
 "nbformat_minor": 2
}
