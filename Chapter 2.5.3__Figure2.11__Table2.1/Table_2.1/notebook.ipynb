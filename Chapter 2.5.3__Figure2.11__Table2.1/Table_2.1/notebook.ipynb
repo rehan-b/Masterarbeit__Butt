{
 "cells": [
  {
   "cell_type": "code",
   "execution_count": 1,
   "metadata": {},
   "outputs": [],
   "source": [
    "import numpy as np\n",
    "from concurrent.futures import ProcessPoolExecutor\n",
    "from tqdm import tqdm\n",
    "from utils import simulate_bagging_and_ijk_var_calculation\n",
    "import pandas as pd"
   ]
  },
  {
   "cell_type": "code",
   "execution_count": 2,
   "metadata": {},
   "outputs": [
    {
     "name": "stdout",
     "output_type": "stream",
     "text": [
      "Running simulations for B = 500\n"
     ]
    },
    {
     "name": "stderr",
     "output_type": "stream",
     "text": [
      "Simulations for B=500: 100%|██████████| 2000/2000 [00:09<00:00, 214.82simulation/s]\n"
     ]
    },
    {
     "name": "stdout",
     "output_type": "stream",
     "text": [
      "Running simulations for B = 1000\n"
     ]
    },
    {
     "name": "stderr",
     "output_type": "stream",
     "text": [
      "Simulations for B=1000: 100%|██████████| 2000/2000 [00:18<00:00, 108.39simulation/s]\n"
     ]
    },
    {
     "name": "stdout",
     "output_type": "stream",
     "text": [
      "Running simulations for B = 2000\n"
     ]
    },
    {
     "name": "stderr",
     "output_type": "stream",
     "text": [
      "Simulations for B=2000: 100%|██████████| 2000/2000 [00:39<00:00, 50.44simulation/s]\n"
     ]
    },
    {
     "name": "stdout",
     "output_type": "stream",
     "text": [
      "Running simulations for B = 4000\n"
     ]
    },
    {
     "name": "stderr",
     "output_type": "stream",
     "text": [
      "Simulations for B=4000: 100%|██████████| 2000/2000 [01:16<00:00, 26.00simulation/s]\n"
     ]
    },
    {
     "name": "stdout",
     "output_type": "stream",
     "text": [
      "Running simulations for B = 10000\n"
     ]
    },
    {
     "name": "stderr",
     "output_type": "stream",
     "text": [
      "Simulations for B=10000: 100%|██████████| 2000/2000 [03:08<00:00, 10.64simulation/s]\n"
     ]
    }
   ],
   "source": [
    "\n",
    "####### Simulation parameters  #########\n",
    "n_x = 1000\n",
    "n_sim = 2000\n",
    "portion_non_zero_weights = 0.5\n",
    "var_x = 1\n",
    "seed = 41\n",
    "\n",
    "B_values = [500, 1000, 2000, 4000, 10000]  # Different B values\n",
    "\n",
    "# Prepare to collect results\n",
    "results = []\n",
    "\n",
    "# Loop over each B value\n",
    "for B in B_values:\n",
    "    print(f\"Running simulations for B = {B}\")\n",
    "    # run simulation\n",
    "    with ProcessPoolExecutor() as executor:\n",
    "        rng = np.random.default_rng(seed)\n",
    "        weights = np.zeros(n_x)\n",
    "\n",
    "        m = int(n_x * portion_non_zero_weights)         # number of non-zero weights\n",
    "        x_sim = rng.normal(0, var_x**0.5, (n_sim, n_x)) # simulate n_sim data-sets\n",
    "        weights[:m] = 1 / m                             # weights for the first m variables = 1/m , else 0\n",
    "\n",
    "        theta_bagged = np.zeros(n_sim)\n",
    "        theta_bagged_var_ijk = np.zeros(n_sim)\n",
    "        theta_bagged_var_ijk_biased = np.zeros(n_sim)\n",
    "\n",
    "        futures = [\n",
    "            executor.submit(\n",
    "                simulate_bagging_and_ijk_var_calculation,\n",
    "                x1=x_sim[i],\n",
    "                B=B,\n",
    "                sim_i=i,\n",
    "                seed=seed,\n",
    "                weights=weights,\n",
    "                m=m,\n",
    "            )\n",
    "            for i in range(n_sim)\n",
    "        ]\n",
    "\n",
    "        for i, future in enumerate(tqdm(futures, desc=f\"Simulations for B={B}\", unit=\"simulation\")):\n",
    "            _biased_var_estimate, _bias_correction, _theta_bagged = future.result()\n",
    "            _theta_bagged_var_ijk = _biased_var_estimate - _bias_correction\n",
    "\n",
    "            theta_bagged[i] = _theta_bagged\n",
    "            theta_bagged_var_ijk[i] = _theta_bagged_var_ijk\n",
    "            theta_bagged_var_ijk_biased[i] = _biased_var_estimate\n",
    "\n",
    "        true_variance = var_x / m\n",
    "        mean_ijk_awb_u = theta_bagged_var_ijk.mean()\n",
    "        std_ijk_awb_u = theta_bagged_var_ijk.std()\n",
    "        mean_ijk_awb = theta_bagged_var_ijk_biased.mean()\n",
    "        std_ijk_awb = theta_bagged_var_ijk_biased.std()\n",
    "\n",
    "        # Collect the results\n",
    "        results.append({\n",
    "            'Bootstrap Samples (B)': B,\n",
    "            'True Variance': f\"{true_variance:.3f}\",\n",
    "            'IJK-AWB-U Estimate ± Std': f\"{mean_ijk_awb_u:.4f} ± {std_ijk_awb_u:.4f}\",\n",
    "            'IJK-AWB Estimate ± Std': f\"{mean_ijk_awb:.4f} ± {std_ijk_awb:.4f}\",\n",
    "        })\n",
    "\n",
    "df_results = pd.DataFrame(results)\n",
    "df_results.to_csv(\"results.csv\", index=False)\n"
   ]
  },
  {
   "cell_type": "code",
   "execution_count": 2,
   "metadata": {},
   "outputs": [
    {
     "name": "stdout",
     "output_type": "stream",
     "text": [
      "\\begin{tabular}{rrll}\n",
      "\\toprule\n",
      "Bootstrap Samples (B) & True Variance & IJK-AWB-U Estimate ± Std & IJK-AWB Estimate ± Std \\\\\n",
      "\\midrule\n",
      "500 & 0.002000 & 0.0020 ± 0.0003 & 0.0040 ± 0.0005 \\\\\n",
      "1000 & 0.002000 & 0.0020 ± 0.0002 & 0.0030 ± 0.0003 \\\\\n",
      "2000 & 0.002000 & 0.0020 ± 0.0002 & 0.0025 ± 0.0002 \\\\\n",
      "4000 & 0.002000 & 0.0020 ± 0.0002 & 0.0022 ± 0.0002 \\\\\n",
      "10000 & 0.002000 & 0.0020 ± 0.0001 & 0.0021 ± 0.0001 \\\\\n",
      "\\bottomrule\n",
      "\\end{tabular}\n",
      "\n"
     ]
    }
   ],
   "source": [
    "import pandas as pd\n",
    "df_results_ = pd.read_csv(\"results.csv\")\n",
    "latex_table = df_results_.to_latex(index=False)\n",
    "print(latex_table)"
   ]
  }
 ],
 "metadata": {
  "kernelspec": {
   "display_name": "Master-Thesis",
   "language": "python",
   "name": "python3"
  },
  "language_info": {
   "codemirror_mode": {
    "name": "ipython",
    "version": 3
   },
   "file_extension": ".py",
   "mimetype": "text/x-python",
   "name": "python",
   "nbconvert_exporter": "python",
   "pygments_lexer": "ipython3",
   "version": "3.11.9"
  }
 },
 "nbformat": 4,
 "nbformat_minor": 2
}
